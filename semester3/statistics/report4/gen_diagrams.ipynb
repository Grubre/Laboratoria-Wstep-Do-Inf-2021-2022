{
 "cells": [
  {
   "cell_type": "code",
   "execution_count": 265,
   "metadata": {},
   "outputs": [],
   "source": [
    "import random\n",
    "import pandas as pd\n",
    "import numpy as np\n",
    "import matplotlib.pyplot as plt\n",
    "import scipy.stats as ss\n",
    "from scipy import mean"
   ]
  },
  {
   "cell_type": "code",
   "execution_count": 266,
   "metadata": {},
   "outputs": [],
   "source": [
    "def get_dict_from_file(file : str):\n",
    "    f = open(\"diagrams/\"+file, \"r\")\n",
    "    lines = f.read().splitlines()\n",
    "    valdict = {}\n",
    "    for a in lines:\n",
    "        spl = a.split(' ')\n",
    "        index = int(spl[0])\n",
    "        val = int(spl[1])\n",
    "        if index not in valdict:\n",
    "            valdict[index] = list()\n",
    "        valdict[index].append(val)\n",
    "    return valdict\n",
    "\n"
   ]
  },
  {
   "cell_type": "code",
   "execution_count": 267,
   "metadata": {},
   "outputs": [],
   "source": [
    "def gen_plot(file: str, title: str, ylim: int):\n",
    "    dictionary = get_dict_from_file(file)\n",
    "    indexes = list(dictionary.keys())\n",
    "    values = list(dictionary.values())\n",
    "    means = []\n",
    "    for val in values:\n",
    "        means.append(mean(val))\n",
    "    plt.clf()\n",
    "    if ylim > 0:\n",
    "        plt.ylim([0, ylim])\n",
    "    plt.xlabel(\"n\")\n",
    "    plt.title(title)\n",
    "    plt.ylabel(\"Number of iterations\")\n",
    "    plt.plot(indexes, values, color = 'b', marker ='o', markersize = 0.3, linewidth = 0, label = 'simulation results')\n",
    "    plt.plot(indexes, means, color = 'r', marker = 'o', markersize = 2.0, linewidth = 0, label = 'mean value')\n",
    "    return [indexes, values, means]"
   ]
  },
  {
   "cell_type": "code",
   "execution_count": 268,
   "metadata": {},
   "outputs": [],
   "source": [
    "def show_plot(file: str, title: str, ylim: int, subplots_ylims: list):\n",
    "    indexes, values, means = gen_plot(file, title, ylim)\n",
    "\n",
    "    handles, labels = plt.gca().get_legend_handles_labels() \n",
    "    labels = dict(zip(labels, handles))\n",
    "\n",
    "    plt.legend(labels.values(), labels.keys())\n",
    "    plt.savefig(\"plots/\" + file.split('.')[0]+'.png')\n",
    "\n",
    "    plt.clf()\n",
    "    plt.plot(indexes, np.divide(means, indexes), marker ='o', markersize = 2.0, linewidth = 0)\n",
    "    plt.title(file.split('.')[0] + \"/ n\")\n",
    "    if subplots_ylims[0][0] >= 0:\n",
    "        plt.ylim(subplots_ylims[0])\n",
    "    plt.savefig(\"plots/\" + file.split('.')[0]+'_n.png')\n",
    "    plt.clf()\n",
    "    plt.plot(indexes, np.divide(means, np.multiply(indexes, np.log(indexes))), marker ='o', markersize = 2.0, linewidth = 0)\n",
    "    plt.title(file.split('.')[0] + \"/ nln(n)\")\n",
    "    if subplots_ylims[1][0] >= 0:\n",
    "        plt.ylim(subplots_ylims[1])\n",
    "    plt.savefig(\"plots/\" + file.split('.')[0]+'_nlnn.png')\n",
    "    plt.clf()\n",
    "    plt.plot(indexes, np.divide(means, np.multiply(indexes, indexes)), marker ='o', markersize = 2.0, linewidth = 0)\n",
    "    plt.title(file.split('.')[0] + \"/ n^2\")\n",
    "    if subplots_ylims[2][0] >= 0:\n",
    "        plt.ylim(subplots_ylims[2])\n",
    "    plt.savefig(\"plots/\" + file.split('.')[0]+'_nn.png')\n",
    "    plt.clf()\n",
    "    plt.plot(indexes, np.divide(means, np.multiply(np.multiply(indexes, indexes),indexes)), marker ='o', markersize = 2.0, linewidth = 0)\n",
    "    plt.title(file.split('.')[0] + \"/ n^3\")\n",
    "    if subplots_ylims[3][0] >= 0:\n",
    "        plt.ylim(subplots_ylims[3])\n",
    "    plt.savefig(\"plots/\" + file.split('.')[0]+'_nnn.png')\n",
    "    plt.clf()\n",
    "    plt.plot(indexes, np.divide(means, np.multiply(indexes, np.multiply(np.log(indexes), np.log(indexes)))), marker ='o', markersize = 2.0, linewidth = 0)\n",
    "    plt.title(file.split('.')[0] + \"/ nln^2(n)\")\n",
    "    if subplots_ylims[4][0] >= 0:\n",
    "        plt.ylim(subplots_ylims[4])\n",
    "    plt.savefig(\"plots/\" + file.split('.')[0]+'_nlnnlnn.png')"
   ]
  },
  {
   "cell_type": "markdown",
   "metadata": {},
   "source": []
  },
  {
   "cell_type": "code",
   "execution_count": 269,
   "metadata": {},
   "outputs": [
    {
     "name": "stderr",
     "output_type": "stream",
     "text": [
      "/tmp/ipykernel_300357/1569389441.py:7: DeprecationWarning: scipy.mean is deprecated and will be removed in SciPy 2.0.0, use numpy.mean instead\n",
      "  means.append(mean(val))\n"
     ]
    },
    {
     "data": {
      "image/png": "[encoded data removed]",
      "text/plain": [
       "<Figure size 640x480 with 1 Axes>"
      ]
     },
     "metadata": {},
     "output_type": "display_data"
    }
   ],
   "source": [
    "# gen_plot(\"output_clique.txt\", \"clique, k=1000\", -1)\n",
    "# gen_plot(\"output_path.txt\", \"path, k=1000\", 15000000)\n",
    "# gen_plot(\"output_path_beginning.txt\", \"path, start=n/2, k=1000\", 15000000)\n",
    "# gen_plot(\"output_binary_tree.txt\", \"binary tree, k=1000\", -1)\n",
    "# gen_plot(\"output_lolipop.txt\", \"lollipop, k=50\", 6000000000)\n",
    "\n",
    "# clique_sub = [[0,10], [0,2], [0,0.05], [0,0.0004]]\n",
    "# show_plot(\"clique.txt\", \"clique, k=1000\", -1, clique_sub)\n",
    "# path_sub = [[-1, -1], [-1, -1], [0, 2], [-1, -1]]\n",
    "# show_plot(\"path.txt\", \"path, k=1000\", -1, path_sub)\n",
    "# show_plot(\"path_beginning.txt\", \"path, start=n/2, k=1000\", -1, path_sub)\n",
    "binary_tree_sub = [[-1, -1], [-1, -1], [-1, -1], [-1, -1], [1, 2.5]]\n",
    "show_plot(\"binary_tree.txt\", \"binary tree, k=1000\", -1, binary_tree_sub)\n",
    "# lollipop_sub = [[-1, -1], [-1, -1], [-1, -1], [0, 0.5]]\n",
    "# show_plot(\"lolipop.txt\", \"lollipop, k=50\", -1, lollipop_sub)"
   ]
  }
 ],
 "metadata": {
  "kernelspec": {
   "display_name": "Python 3",
   "language": "python",
   "name": "python3"
  },
  "language_info": {
   "codemirror_mode": {
    "name": "ipython",
    "version": 3
   },
   "file_extension": ".py",
   "mimetype": "text/x-python",
   "name": "python",
   "nbconvert_exporter": "python",
   "pygments_lexer": "ipython3",
   "version": "3.10.9"
  },
  "orig_nbformat": 4,
  "vscode": {
   "interpreter": {
    "hash": "767d51c1340bd893661ea55ea3124f6de3c7a262a8b4abca0554b478b1e2ff90"
   }
  }
 },
 "nbformat": 4,
 "nbformat_minor": 2
}
