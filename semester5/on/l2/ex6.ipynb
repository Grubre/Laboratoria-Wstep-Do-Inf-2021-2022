{
 "cells": [
  {
   "cell_type": "code",
   "execution_count": 30,
   "metadata": {},
   "outputs": [],
   "source": [
    "using Plots\n",
    "\n",
    "function f(x0, c, n)\n",
    "    x = x0\n",
    "    results = Float64[x0]  # Store the results in an array\n",
    "    for i in 1:n\n",
    "        x = x * x + c\n",
    "        push!(results, x)\n",
    "    end\n",
    "    return results\n",
    "end\n",
    "\n",
    "n = 40\n",
    "c_vals = [-2, -2, -2, -1, -1, -1, -1]\n",
    "x_vals = [1, 2, 1.99999999999999, 1, -1, 0.75, 0.25]\n",
    "\n",
    "# Iterate through each pair and create a separate plot\n",
    "for i in 1:length(c_vals)\n",
    "    c = c_vals[i]\n",
    "    x0 = x_vals[i]\n",
    "\n",
    "    # Create a plot for the graphical iteration\n",
    "    plot(legend=false)\n",
    "\n",
    "    # Plot y = x^2 + c\n",
    "    x = -2:0.01:2\n",
    "    y = x .^ 2 .+ c\n",
    "    plot!(x, y, label=\"y = x^2 + c\")\n",
    "\n",
    "    # Plot y = x\n",
    "    plot!(x, x, label=\"y = x\")\n",
    "\n",
    "    # Iterate and draw arrows\n",
    "    x_n = x0\n",
    "    for j in 1:n\n",
    "        x_n1 = x_n * x_n + c\n",
    "        plot!([x_n, x_n], [x_n, x_n1], arrow=true, linecolor=\"black\")\n",
    "        plot!([x_n, x_n1], [x_n1, x_n1], arrow=true, linecolor=\"black\")\n",
    "        x_n = x_n1\n",
    "    end\n",
    "\n",
    "    # Customize the plot\n",
    "    xlabel!(\"x\")\n",
    "    ylabel!(\"y\")\n",
    "    title!(\"Iteracja graficzna x0 = $x0, c = $c\")\n",
    "\n",
    "    # Save the plot to a file with a specific filename\n",
    "    savefig(\"./images/ex6_$i.png\")\n",
    "\n",
    "    # Clear the current plot for the next iteration\n",
    "    plot!()\n",
    "end\n"
   ]
  }
 ],
 "metadata": {
  "kernelspec": {
   "display_name": "Julia 1.9.3",
   "language": "julia",
   "name": "julia-1.9"
  },
  "language_info": {
   "file_extension": ".jl",
   "mimetype": "application/julia",
   "name": "julia",
   "version": "1.9.3"
  }
 },
 "nbformat": 4,
 "nbformat_minor": 2
}
