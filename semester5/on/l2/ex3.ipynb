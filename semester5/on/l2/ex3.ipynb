{
 "cells": [
  {
   "cell_type": "code",
   "execution_count": 9,
   "metadata": {},
   "outputs": [],
   "source": [
    "using LinearAlgebra\n",
    "using CSV\n",
    "using DataFrames"
   ]
  },
  {
   "cell_type": "code",
   "execution_count": 10,
   "metadata": {},
   "outputs": [
    {
     "data": {
      "text/plain": [
       "hilb (generic function with 1 method)"
      ]
     },
     "metadata": {},
     "output_type": "display_data"
    }
   ],
   "source": [
    "\n",
    "function matcond(n::Int, c::Float64)\n",
    "# Function generates a random square matrix A of size n with\n",
    "# a given condition number c.\n",
    "# Inputs:\n",
    "#\tn: size of matrix A, n>1\n",
    "#\tc: condition of matrix A, c>= 1.0\n",
    "#\n",
    "# Usage: matcond(10, 100.0)\n",
    "#\n",
    "# Pawel Zielinski\n",
    "        if n < 2\n",
    "            error(\"size n should be > 1\")\n",
    "        end\n",
    "        if c< 1.0\n",
    "            error(\"condition number  c of a matrix  should be >= 1.0\")\n",
    "        end\n",
    "        (U,S,V)=svd(rand(n,n))\n",
    "        return U*diagm(0 =>[LinRange(1.0,c,n);])*V'\n",
    "end\n",
    "\n",
    "function hilb(n::Int)\n",
    "# Function generates the Hilbert matrix  A of size n,\n",
    "#  A (i, j) = 1 / (i + j - 1)\n",
    "# Inputs:\n",
    "#\tn: size of matrix A, n>=1\n",
    "#\n",
    "#\n",
    "# Usage: hilb(10)\n",
    "#\n",
    "# Pawel Zielinski\n",
    "        if n < 1\n",
    "            error(\"size n should be >= 1\")\n",
    "        end\n",
    "        return [1 / (i + j - 1) for i in 1:n, j in 1:n]\n",
    "end"
   ]
  },
  {
   "cell_type": "code",
   "execution_count": null,
   "metadata": {},
   "outputs": [],
   "source": [
    "# Hilbert\n",
    "df = DataFrame(n=[], error_inverse=[], error_gauss=[])\n",
    "\n",
    "for n in 2:100\n",
    "    x = ones(n)\n",
    "    A = hilb(n)\n",
    "    b = A * x\n",
    "    \n",
    "    gauss = A \\ b\n",
    "    inverse = inv(A) * b\n",
    "    println(\"$n -> $gauss\")\n",
    "\n",
    "    error_gauss = norm(gauss - x) / norm(x)\n",
    "    error_inverse = norm(inverse - x) / norm(x)\n",
    "\n",
    "    push!(df, (n=n, error_inverse=error_inverse, error_gauss=error_gauss))\n",
    "end\n",
    "\n",
    "CSV.write(\"hilbert.csv\", df)"
   ]
  },
  {
   "cell_type": "code",
   "execution_count": 18,
   "metadata": {},
   "outputs": [
    {
     "data": {
      "text/plain": [
       "100000.0"
      ]
     },
     "metadata": {},
     "output_type": "display_data"
    }
   ],
   "source": [
    "10.0^5"
   ]
  },
  {
   "cell_type": "code",
   "execution_count": 20,
   "metadata": {},
   "outputs": [
    {
     "data": {
      "text/plain": [
       "\"random.csv\""
      ]
     },
     "metadata": {},
     "output_type": "display_data"
    }
   ],
   "source": [
    "using DataFrames, CSV, LinearAlgebra\n",
    "\n",
    "df = DataFrame(n=[], c=[], error_inverse=[], error_gauss=[])\n",
    "\n",
    "repetitions = 1000\n",
    "c_vals = [1.0, 10.0, 10.0^3, 10.0^7, 10.0^12, 10.0^16]\n",
    "\n",
    "for n in [5,10,20]\n",
    "    for c in c_vals\n",
    "        for _ in 1:repetitions\n",
    "            x = ones(n)\n",
    "            A = matcond(n, c)\n",
    "            b = A * x\n",
    "\n",
    "            gauss = A \\ b\n",
    "            inverse = inv(A) * b\n",
    "\n",
    "            error_gauss = norm(gauss - x) / norm(x)\n",
    "            error_inverse = norm(inverse - x) / norm(x)\n",
    "\n",
    "            push!(df, (n=n, c=c, error_inverse=error_inverse, error_gauss=error_gauss))\n",
    "        end\n",
    "    end\n",
    "end\n",
    "\n",
    "# Save the DataFrame to a CSV file\n",
    "CSV.write(\"random.csv\", df)\n"
   ]
  }
 ],
 "metadata": {
  "kernelspec": {
   "display_name": "Julia 1.9.3",
   "language": "julia",
   "name": "julia-1.9"
  },
  "language_info": {
   "file_extension": ".jl",
   "mimetype": "application/julia",
   "name": "julia",
   "version": "1.9.3"
  }
 },
 "nbformat": 4,
 "nbformat_minor": 2
}
