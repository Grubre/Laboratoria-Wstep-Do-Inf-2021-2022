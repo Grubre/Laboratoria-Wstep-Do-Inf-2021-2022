{
 "cells": [
  {
   "cell_type": "code",
   "execution_count": 7,
   "metadata": {},
   "outputs": [
    {
     "data": {
      "text/plain": [
       "naturalna (generic function with 1 method)"
      ]
     },
     "metadata": {},
     "output_type": "display_data"
    }
   ],
   "source": [
    "function ilorazyRoznicowe(x::Vector{Float64}, f::Vector{Float64})\n",
    "    n = length(x)\n",
    "\n",
    "    ret = [f[1]]\n",
    "\n",
    "    for i in 1:n-1\n",
    "        for j in 1:n-i\n",
    "            f[j] = (f[j + 1] - f[j]) / (x[i + j] - x[j])\n",
    "        end\n",
    "        push!(ret, f[1])\n",
    "    end\n",
    "\n",
    "    return ret\n",
    "end\n",
    "\n",
    "function warNewton(x::Vector{Float64}, fx::Vector{Float64}, t::Float64)\n",
    "    nt = 0\n",
    "\n",
    "    for i in reverse(1:length(x))\n",
    "        nt = fx[i] + nt * (t - x[i])\n",
    "    end\n",
    "\n",
    "    return nt\n",
    "end\n",
    "\n",
    "function naturalna(x::Vector{Float64}, fx::Vector{Float64})\n",
    "    n = length(x)\n",
    "    a = zeros(n)\n",
    "\n",
    "    for i in reverse(1:n)\n",
    "        for j in i:n-1\n",
    "            a[j] -= a[j+1] * x[i]\n",
    "        end\n",
    "        a[i] += fx[i]\n",
    "    end\n",
    "\n",
    "    return a\n",
    "end"
   ]
  },
  {
   "cell_type": "code",
   "execution_count": 8,
   "metadata": {},
   "outputs": [
    {
     "name": "stdout",
     "output_type": "stream",
     "text": [
      "[1.0, 3.0, 1.0]\n"
     ]
    },
    {
     "name": "stdout",
     "output_type": "stream",
     "text": [
      "[2.0, -3.0, 2.0]\n"
     ]
    }
   ],
   "source": [
    "x = [1.,2.,3.]\n",
    "f = [1., 4., 9.]\n",
    "fx = ilorazyRoznicowe(x, f)\n",
    "println(fx)\n",
    "\n",
    "println(naturalna(x, fx))"
   ]
  }
 ],
 "metadata": {
  "kernelspec": {
   "display_name": "Julia 1.9.4",
   "language": "julia",
   "name": "julia-1.9"
  },
  "language_info": {
   "file_extension": ".jl",
   "mimetype": "application/julia",
   "name": "julia",
   "version": "1.9.4"
  }
 },
 "nbformat": 4,
 "nbformat_minor": 2
}
