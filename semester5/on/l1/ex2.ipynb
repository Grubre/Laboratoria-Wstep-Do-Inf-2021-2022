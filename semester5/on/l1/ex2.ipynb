{
 "cells": [
  {
   "cell_type": "markdown",
   "metadata": {},
   "source": [
    "Jakub Ogrodowczyk"
   ]
  },
  {
   "cell_type": "code",
   "execution_count": 1,
   "metadata": {},
   "outputs": [
    {
     "data": {
      "text/plain": [
       "macheps (generic function with 1 method)"
      ]
     },
     "metadata": {},
     "output_type": "display_data"
    }
   ],
   "source": [
    "function macheps(T)\n",
    "    three = T(3.0)\n",
    "    four = T(4.0)\n",
    "    one = T(1.0)\n",
    "    return three * (four / three - one) - one\n",
    "end"
   ]
  },
  {
   "cell_type": "code",
   "execution_count": 2,
   "metadata": {},
   "outputs": [
    {
     "data": {
      "text/plain": [
       "print_macheps (generic function with 1 method)"
      ]
     },
     "metadata": {},
     "output_type": "display_data"
    }
   ],
   "source": [
    "function print_macheps(T)\n",
    "    println(T)\n",
    "    println(\"my function -> \", macheps(T))\n",
    "    println(\"julia eps ---> \", eps(T))\n",
    "end"
   ]
  },
  {
   "cell_type": "code",
   "execution_count": 4,
   "metadata": {},
   "outputs": [
    {
     "name": "stdout",
     "output_type": "stream",
     "text": [
      "Float16\n"
     ]
    },
    {
     "name": "stdout",
     "output_type": "stream",
     "text": [
      "my function -> -0.000977\n",
      "julia eps ---> 0.000977\n",
      "Float32\n",
      "my function -> 1.1920929e-7\n",
      "julia eps ---> 1.1920929e-7\n",
      "Float64\n",
      "my function -> -2.220446049250313e-16\n",
      "julia eps ---> 2.220446049250313e-16\n"
     ]
    }
   ],
   "source": [
    "print_macheps(Float16)\n",
    "print_macheps(Float32)\n",
    "print_macheps(Float64)"
   ]
  }
 ],
 "metadata": {
  "kernelspec": {
   "display_name": "Julia 1.9.3",
   "language": "julia",
   "name": "julia-1.9"
  },
  "language_info": {
   "file_extension": ".jl",
   "mimetype": "application/julia",
   "name": "julia",
   "version": "1.9.3"
  },
  "orig_nbformat": 4
 },
 "nbformat": 4,
 "nbformat_minor": 2
}
