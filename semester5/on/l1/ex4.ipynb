{
 "cells": [
  {
   "cell_type": "markdown",
   "metadata": {},
   "source": [
    "Jakub Ogrodowczyk"
   ]
  },
  {
   "cell_type": "code",
   "execution_count": 21,
   "metadata": {},
   "outputs": [
    {
     "name": "stdout",
     "output_type": "stream",
     "text": [
      "i = 1.000000057228997\n"
     ]
    }
   ],
   "source": [
    "i = 1.0\n",
    "while i <= 2.0\n",
    "    if i * (1/i) != 1\n",
    "        break\n",
    "    end\n",
    "    i = nextfloat(i)\n",
    "end\n",
    "println(\"i = $i\")"
   ]
  },
  {
   "cell_type": "code",
   "execution_count": 30,
   "metadata": {},
   "outputs": [
    {
     "name": "stdout",
     "output_type": "stream",
     "text": [
      "0011111111110000000000000000000000000000000000000000000000000000\n",
      "0011111111110000000000000000000000001111010111001011111100101010\n"
     ]
    }
   ],
   "source": [
    "x = 1.4543536\n",
    "println(bitstring(1.0))\n",
    "x = 1.000000057228997\n",
    "println(bitstring(1.000000057228997))"
   ]
  },
  {
   "cell_type": "code",
   "execution_count": 27,
   "metadata": {},
   "outputs": [
    {
     "name": "stdout",
     "output_type": "stream",
     "text": [
      "0011111111101111111111111111111111111111111111111111111111111111\n",
      "0011111111110000000000000000000000000000000000000000000000000000\n"
     ]
    }
   ],
   "source": [
    "x = 1.45435326\n",
    "y = x * (1.0 / x)\n",
    "println(bitstring(y))\n",
    "println(bitstring(1.0))"
   ]
  }
 ],
 "metadata": {
  "kernelspec": {
   "display_name": "Julia 1.9.3",
   "language": "julia",
   "name": "julia-1.9"
  },
  "language_info": {
   "file_extension": ".jl",
   "mimetype": "application/julia",
   "name": "julia",
   "version": "1.9.3"
  },
  "orig_nbformat": 4
 },
 "nbformat": 4,
 "nbformat_minor": 2
}
