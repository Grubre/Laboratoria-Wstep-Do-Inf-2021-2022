{
 "cells": [
  {
   "cell_type": "markdown",
   "metadata": {},
   "source": [
    "Jakub Ogrodowczyk (dokonczyc wyliczanie max)"
   ]
  },
  {
   "cell_type": "markdown",
   "metadata": {},
   "source": [
    "## Wyznaczanie Macheps"
   ]
  },
  {
   "cell_type": "code",
   "execution_count": 1,
   "metadata": {},
   "outputs": [
    {
     "data": {
      "text/plain": [
       "macheps (generic function with 1 method)"
      ]
     },
     "metadata": {},
     "output_type": "display_data"
    }
   ],
   "source": [
    "function macheps(T)\n",
    "    eps_T = T(1.0)\n",
    "    c = T(1.0)\n",
    "    i = eps_T\n",
    "\n",
    "    while c + i > c\n",
    "        eps_T = i\n",
    "        i = i / T(2.0)\n",
    "    end\n",
    "    return eps_T\n",
    "end"
   ]
  },
  {
   "cell_type": "code",
   "execution_count": 2,
   "metadata": {},
   "outputs": [
    {
     "data": {
      "text/plain": [
       "print_macheps (generic function with 1 method)"
      ]
     },
     "metadata": {},
     "output_type": "display_data"
    }
   ],
   "source": [
    "function print_macheps(T)\n",
    "    println(T)\n",
    "    println(\"my function -> \", macheps(T))\n",
    "    println(\"julia eps ---> \", eps(T))\n",
    "end"
   ]
  },
  {
   "cell_type": "code",
   "execution_count": 3,
   "metadata": {},
   "outputs": [
    {
     "name": "stdout",
     "output_type": "stream",
     "text": [
      "Float16\n",
      "my function -> 0.000977\n",
      "julia eps ---> 0.000977\n",
      "Float32\n",
      "my function -> 1.1920929e-7"
     ]
    },
    {
     "name": "stdout",
     "output_type": "stream",
     "text": [
      "\n",
      "julia eps ---> 1.1920929e-7\n",
      "Float64\n",
      "my function -> 2.220446049250313e-16\n",
      "julia eps ---> 2.220446049250313e-16\n"
     ]
    }
   ],
   "source": [
    "print_macheps(Float16)\n",
    "print_macheps(Float32)\n",
    "print_macheps(Float64)\n"
   ]
  },
  {
   "cell_type": "markdown",
   "metadata": {},
   "source": [
    "## Wyznaczanie Eta"
   ]
  },
  {
   "cell_type": "code",
   "execution_count": 4,
   "metadata": {},
   "outputs": [
    {
     "data": {
      "text/plain": [
       "eta (generic function with 1 method)"
      ]
     },
     "metadata": {},
     "output_type": "display_data"
    }
   ],
   "source": [
    "function eta(T)\n",
    "    eta_T = T(1.0)\n",
    "    c = T(0.0)\n",
    "    i = eta_T\n",
    "\n",
    "    while c + i > c\n",
    "        eta_T = i\n",
    "        i = i / T(2.0)\n",
    "    end\n",
    "    return eta_T\n",
    "end"
   ]
  },
  {
   "cell_type": "code",
   "execution_count": 5,
   "metadata": {},
   "outputs": [
    {
     "data": {
      "text/plain": [
       "print_eta (generic function with 1 method)"
      ]
     },
     "metadata": {},
     "output_type": "display_data"
    }
   ],
   "source": [
    "function print_eta(T)\n",
    "    println(T)\n",
    "    println(\"my function -> \", eta(T))\n",
    "    println(\"julia eta ---> \", nextfloat(T(0.0)))\n",
    "end"
   ]
  },
  {
   "cell_type": "code",
   "execution_count": 6,
   "metadata": {},
   "outputs": [
    {
     "name": "stdout",
     "output_type": "stream",
     "text": [
      "Float16\n",
      "my function -> 6.0e-8\n",
      "julia eta ---> 6.0e-8\n",
      "Float32\n",
      "my function -> 1.0e-45\n",
      "julia eta ---> 1.0e-45\n",
      "Float64\n",
      "my function -> 5.0e-324\n",
      "julia eta ---> 5.0e-324\n"
     ]
    }
   ],
   "source": [
    "print_eta(Float16)\n",
    "print_eta(Float32)\n",
    "print_eta(Float64)\n"
   ]
  },
  {
   "cell_type": "markdown",
   "metadata": {},
   "source": [
    "## Wyznaczanie Max"
   ]
  },
  {
   "cell_type": "code",
   "execution_count": 30,
   "metadata": {},
   "outputs": [
    {
     "data": {
      "text/plain": [
       "max_val (generic function with 1 method)"
      ]
     },
     "metadata": {},
     "output_type": "display_data"
    }
   ],
   "source": [
    "function max_val(T)\n",
    "    max_T = T(1.0)\n",
    "    i = max_T\n",
    "\n",
    "    while !isinf(i)\n",
    "        max_T = i\n",
    "        i = i * T(2.0)\n",
    "    end\n",
    "    return max_T\n",
    "end"
   ]
  },
  {
   "cell_type": "code",
   "execution_count": 9,
   "metadata": {},
   "outputs": [
    {
     "data": {
      "text/plain": [
       "print_max (generic function with 1 method)"
      ]
     },
     "metadata": {},
     "output_type": "display_data"
    }
   ],
   "source": [
    "function print_max(T)\n",
    "    println(T)\n",
    "    println(\"my function -> \", max_val(T))\n",
    "    println(\"julia max ---> \", floatmax(T))\n",
    "end"
   ]
  },
  {
   "cell_type": "code",
   "execution_count": 31,
   "metadata": {},
   "outputs": [
    {
     "name": "stdout",
     "output_type": "stream",
     "text": [
      "Float16\n",
      "my function -> 2.952e4\n",
      "julia max ---> 6.55e4\n",
      "Float32\n",
      "my function -> 2.2171323e38\n",
      "julia max ---> 3.4028235e38\n",
      "Float64\n",
      "my function -> 8.304252640116725e307\n",
      "julia max ---> 1.7976931348623157e308\n"
     ]
    }
   ],
   "source": [
    "print_max(Float16)\n",
    "print_max(Float32)\n",
    "print_max(Float64)"
   ]
  }
 ],
 "metadata": {
  "kernelspec": {
   "display_name": "Julia 1.9.3",
   "language": "julia",
   "name": "julia-1.9"
  },
  "language_info": {
   "file_extension": ".jl",
   "mimetype": "application/julia",
   "name": "julia",
   "version": "1.9.3"
  },
  "orig_nbformat": 4
 },
 "nbformat": 4,
 "nbformat_minor": 2
}
