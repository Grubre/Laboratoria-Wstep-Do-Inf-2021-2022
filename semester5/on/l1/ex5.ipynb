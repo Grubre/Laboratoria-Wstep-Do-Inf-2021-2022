{
 "cells": [
  {
   "cell_type": "markdown",
   "metadata": {},
   "source": [
    "Jakub Ogrodowczyk"
   ]
  },
  {
   "cell_type": "code",
   "execution_count": 44,
   "metadata": {},
   "outputs": [
    {
     "data": {
      "text/plain": [
       "5-element Vector{Float64}:\n",
       "   1486.2497\n",
       " 878366.9879\n",
       "    -22.37492\n",
       "      4.773714647e6\n",
       "      0.000185049"
      ]
     },
     "metadata": {},
     "output_type": "display_data"
    }
   ],
   "source": [
    "x = [2.718281828, -3.141592654, 1.414213562, 0.5772156649, 0.3010299957]\n",
    "y = [1486.2497, 878366.9879, -22.37492, 4773714.647, 0.000185049]"
   ]
  },
  {
   "cell_type": "code",
   "execution_count": 45,
   "metadata": {},
   "outputs": [
    {
     "data": {
      "text/plain": [
       "w_przod (generic function with 2 methods)"
      ]
     },
     "metadata": {},
     "output_type": "display_data"
    }
   ],
   "source": [
    "function w_przod(T, x::Vector, y::Vector)\n",
    "    if length(x) != length(y)\n",
    "        error(\"Vectory musza byc tego samego wymiaru.\")\n",
    "    end\n",
    "    S = 0\n",
    "    for i in 1:length(x)\n",
    "        S = S + T(x[i]) * T(y[i])\n",
    "    end\n",
    "    return S\n",
    "end\n"
   ]
  },
  {
   "cell_type": "code",
   "execution_count": 46,
   "metadata": {},
   "outputs": [
    {
     "data": {
      "text/plain": [
       "w_tyl (generic function with 2 methods)"
      ]
     },
     "metadata": {},
     "output_type": "display_data"
    }
   ],
   "source": [
    "function w_tyl(T, x::Vector, y::Vector)\n",
    "    if length(x) != length(y)\n",
    "        error(\"Vectory musza byc tego samego wymiaru.\")\n",
    "    end\n",
    "    S = 0\n",
    "    for i in length(x):-1:1\n",
    "        S = S + T(x[i]) * T(y[i])\n",
    "    end\n",
    "    return S\n",
    "end"
   ]
  },
  {
   "cell_type": "code",
   "execution_count": 47,
   "metadata": {},
   "outputs": [
    {
     "data": {
      "text/plain": [
       "od_najw_do_najm (generic function with 2 methods)"
      ]
     },
     "metadata": {},
     "output_type": "display_data"
    }
   ],
   "source": [
    "function od_najw_do_najm(T, x::Vector, y::Vector)\n",
    "    m = []\n",
    "    for i in 1:length(x)\n",
    "        push!(m, T(x[i]) * T(y[i]))\n",
    "    end\n",
    "    m = sort(m, rev=true)\n",
    "    S = 0\n",
    "    for i in 1:length(m)\n",
    "        S = S + m[i]\n",
    "    end\n",
    "    return S\n",
    "end"
   ]
  },
  {
   "cell_type": "code",
   "execution_count": 48,
   "metadata": {},
   "outputs": [
    {
     "data": {
      "text/plain": [
       "od_najm_do_najw (generic function with 2 methods)"
      ]
     },
     "metadata": {},
     "output_type": "display_data"
    }
   ],
   "source": [
    "function od_najm_do_najw(T, x::Vector, y::Vector)\n",
    "    m = []\n",
    "    for i in 1:length(x)\n",
    "        push!(m, T(x[i]) * T(y[i]))\n",
    "    end\n",
    "    m = sort(m)\n",
    "    S = 0\n",
    "    for i in 1:length(m)\n",
    "        S = S + m[i]\n",
    "    end\n",
    "    return S\n",
    "end"
   ]
  },
  {
   "cell_type": "code",
   "execution_count": 52,
   "metadata": {},
   "outputs": [
    {
     "name": "stdout",
     "output_type": "stream",
     "text": [
      "blad32: 1.006571e-11\n",
      "blad64: 1.00657107e-11\n",
      "w przod:\n",
      "Float32: -0.4999443\n",
      "Float64: 1.0251881368296672e-10\n",
      "blad32:  0.4999443\n",
      "Blad64:  9.245310298296671e-11\n",
      "w tyl:\n",
      "Float32: -0.4543457\n",
      "Float64: -1.5643308870494366e-10\n",
      "blad32:  0.4543457\n",
      "Blad64:  1.6649879940494366e-10\n",
      "od_najw_do_najm:\n",
      "Float32: -0.5\n",
      "Float64: 0.0\n",
      "blad32:  0.5\n",
      "Blad64:  1.00657107e-11\n",
      "od_najm_do_najw:\n",
      "Float32: -0.5\n",
      "Float64: 0.0\n",
      "blad32:  0.5\n",
      "Blad64:  1.00657107e-11\n"
     ]
    }
   ],
   "source": [
    "actual32 = Float32(1.00657107000000e-11)\n",
    "actual64 = Float64(1.00657107000000e-11)\n",
    "println(\"blad32: \", actual32)\n",
    "println(\"blad64: \", actual64)\n",
    "println(\"w przod:\")\n",
    "f32 = w_przod(Float32, x,y)\n",
    "f64 = w_przod(Float64, x,y)\n",
    "println(\"Float32: \", f32)\n",
    "println(\"Float64: \", f64)\n",
    "println(\"blad32:  \", abs(actual32 - f32))\n",
    "println(\"Blad64:  \", abs(actual64 - f64))\n",
    "println(\"w tyl:\")\n",
    "f32 = w_tyl(Float32, x,y)\n",
    "f64 = w_tyl(Float64, x,y)\n",
    "println(\"Float32: \", f32)\n",
    "println(\"Float64: \", f64)\n",
    "println(\"blad32:  \", abs(actual32 - f32))\n",
    "println(\"Blad64:  \", abs(actual64 - f64))\n",
    "println(\"od_najw_do_najm:\")\n",
    "f32 = od_najw_do_najm(Float32, x,y)\n",
    "f64 = od_najw_do_najm(Float64, x,y)\n",
    "println(\"Float32: \", f32)\n",
    "println(\"Float64: \", f64)\n",
    "println(\"blad32:  \", abs(actual32 - f32))\n",
    "println(\"Blad64:  \", abs(actual64 - f64))\n",
    "println(\"od_najm_do_najw:\")\n",
    "f32 = od_najm_do_najw(Float32, x,y)\n",
    "f64 = od_najm_do_najw(Float64, x,y)\n",
    "println(\"Float32: \", f32)\n",
    "println(\"Float64: \", f64)\n",
    "println(\"blad32:  \", abs(actual32 - f32))\n",
    "println(\"Blad64:  \", abs(actual64 - f64))"
   ]
  }
 ],
 "metadata": {
  "kernelspec": {
   "display_name": "Julia 1.9.3",
   "language": "julia",
   "name": "julia-1.9"
  },
  "language_info": {
   "file_extension": ".jl",
   "mimetype": "application/julia",
   "name": "julia",
   "version": "1.9.3"
  },
  "orig_nbformat": 4
 },
 "nbformat": 4,
 "nbformat_minor": 2
}
