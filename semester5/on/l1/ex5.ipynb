{
 "cells": [
  {
   "cell_type": "markdown",
   "metadata": {},
   "source": [
    "Jakub Ogrodowczyk"
   ]
  },
  {
   "cell_type": "code",
   "execution_count": 3,
   "metadata": {},
   "outputs": [
    {
     "data": {
      "text/plain": [
       "5-element Vector{Float64}:\n",
       "   1486.2497\n",
       " 878366.9879\n",
       "    -22.37492\n",
       "      4.773714647e6\n",
       "      0.000185049"
      ]
     },
     "metadata": {},
     "output_type": "display_data"
    }
   ],
   "source": [
    "x = [2.718281828, -3.141592654, 1.414213562, 0.5772156649, 0.3010299957]\n",
    "y = [1486.2497, 878366.9879, -22.37492, 4773714.647, 0.000185049]"
   ]
  },
  {
   "cell_type": "code",
   "execution_count": 4,
   "metadata": {},
   "outputs": [
    {
     "data": {
      "text/plain": [
       "w_przod (generic function with 1 method)"
      ]
     },
     "metadata": {},
     "output_type": "display_data"
    }
   ],
   "source": [
    "function w_przod(x::Vector, y::Vector)\n",
    "    if length(x) != length(y)\n",
    "        error(\"Vectory musza byc tego samego wymiaru.\")\n",
    "    end\n",
    "    S = 0\n",
    "    for i in 1:length(x)\n",
    "        S = S + x[i] * y[i]\n",
    "    end\n",
    "    return S\n",
    "end\n"
   ]
  },
  {
   "cell_type": "code",
   "execution_count": 5,
   "metadata": {},
   "outputs": [
    {
     "data": {
      "text/plain": [
       "w_tyl (generic function with 1 method)"
      ]
     },
     "metadata": {},
     "output_type": "display_data"
    }
   ],
   "source": [
    "function w_tyl(x::Vector, y::Vector)\n",
    "    if length(x) != length(y)\n",
    "        error(\"Vectory musza byc tego samego wymiaru.\")\n",
    "    end\n",
    "    S = 0\n",
    "    for i in length(x):-1:1\n",
    "        S = S + x[i] * y[i]\n",
    "    end\n",
    "    return S\n",
    "end"
   ]
  },
  {
   "cell_type": "code",
   "execution_count": 28,
   "metadata": {},
   "outputs": [
    {
     "data": {
      "text/plain": [
       "od_najw_do_najm (generic function with 1 method)"
      ]
     },
     "metadata": {},
     "output_type": "display_data"
    }
   ],
   "source": [
    "function od_najw_do_najm(x::Vector, y::Vector)\n",
    "    m = []\n",
    "    for i in 1:length(x)\n",
    "        push!(m, x[i] * y[i])\n",
    "    end\n",
    "    sort(m, rev=true)\n",
    "    S = 0\n",
    "    for i in 1:length(m)\n",
    "        S = S + m[i]\n",
    "    end\n",
    "    return S\n",
    "end"
   ]
  },
  {
   "cell_type": "code",
   "execution_count": 29,
   "metadata": {},
   "outputs": [
    {
     "data": {
      "text/plain": [
       "od_najm_do_najw (generic function with 1 method)"
      ]
     },
     "metadata": {},
     "output_type": "display_data"
    }
   ],
   "source": [
    "function od_najm_do_najw(x::Vector, y::Vector)\n",
    "    m = []\n",
    "    for i in 1:length(x)\n",
    "        push!(m, x[i] * y[i])\n",
    "    end\n",
    "    sort(m)\n",
    "    S = 0\n",
    "    for i in 1:length(m)\n",
    "        S = S + m[i]\n",
    "    end\n",
    "    return S\n",
    "end"
   ]
  },
  {
   "cell_type": "code",
   "execution_count": 30,
   "metadata": {},
   "outputs": [
    {
     "name": "stdout",
     "output_type": "stream",
     "text": [
      "1.0251881368296672e-10\n",
      "-1.5643308870494366e-10\n"
     ]
    },
    {
     "name": "stdout",
     "output_type": "stream",
     "text": [
      "1.0251881368296672e-10\n",
      "1.0251881368296672e-10\n"
     ]
    }
   ],
   "source": [
    "println(w_przod(x,y))\n",
    "println(w_tyl(x,y))\n",
    "println(od_najw_do_najm(x,y))\n",
    "println(od_najm_do_najw(x,y))"
   ]
  }
 ],
 "metadata": {
  "kernelspec": {
   "display_name": "Julia 1.9.3",
   "language": "julia",
   "name": "julia-1.9"
  },
  "language_info": {
   "file_extension": ".jl",
   "mimetype": "application/julia",
   "name": "julia",
   "version": "1.9.3"
  },
  "orig_nbformat": 4
 },
 "nbformat": 4,
 "nbformat_minor": 2
}
