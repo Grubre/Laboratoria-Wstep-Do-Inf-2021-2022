{
 "cells": [
  {
   "cell_type": "markdown",
   "metadata": {},
   "source": [
    "Jakub Ogrodowczyk (dokonczyc druga czesc zadania)"
   ]
  },
  {
   "cell_type": "code",
   "execution_count": null,
   "metadata": {},
   "outputs": [],
   "source": [
    "delta = Float64(2e-52)\n",
    "i = Float64(1.0)\n",
    "j = 1\n",
    "while i < 2.0\n",
    "    i += delta\n",
    "    if i != 1.0 + j * delta\n",
    "        println(\"mismatch\")\n",
    "    end\n",
    "    j += 1\n",
    "end \n"
   ]
  },
  {
   "cell_type": "code",
   "execution_count": 2,
   "metadata": {},
   "outputs": [
    {
     "data": {
      "text/plain": [
       "my_bitstring (generic function with 3 methods)"
      ]
     },
     "metadata": {},
     "output_type": "display_data"
    }
   ],
   "source": [
    "function my_bitstring(x::Float16)\n",
    "    bit = bitstring(x)\n",
    "    return string(bit[1],\":\", bit[2:6],\":\", bit[7:end])\n",
    "end\n",
    "\n",
    "function my_bitstring(x::Float32)\n",
    "    bit = bitstring(x)\n",
    "    return string(bit[1],\":\", bit[2:9],\":\", bit[10:end])\n",
    "end\n",
    "\n",
    "function my_bitstring(x::Float64)\n",
    "    bit = bitstring(x)\n",
    "    return string(bit[1],\":\", bit[2:12],\":\", bit[13:end])\n",
    "end"
   ]
  },
  {
   "cell_type": "code",
   "execution_count": 8,
   "metadata": {},
   "outputs": [
    {
     "name": "stdout",
     "output_type": "stream",
     "text": [
      "0:01111111110:0000000000000000000000000000000000000000000000000000\n",
      "0:01111111110:0000000000000000000000000000000000000000000000000001\n",
      "0:01111111110:0000000000000000000000000000000000000000000000000010\n",
      "0:01111111110:1111111111111111111111111111111111111111111111111111\n",
      "5.551115123125783e-17\n",
      "2.220446049250313e-16\n",
      "2.0e-52\n",
      "0:01111111110:0000000000000000000000000000000000000000000000000000\n",
      "0:01111111111:0000000000000000000000000000000000000000000000000000\n",
      "0:10000000000:0000000000000000000000000000000000000000000000000000\n",
      "0:10000000001:0000000000000000000000000000000000000000000000000000\n"
     ]
    }
   ],
   "source": [
    "i = Float64(1/2)\n",
    "println(my_bitstring(i))\n",
    "println(my_bitstring(nextfloat(i)))\n",
    "println(my_bitstring(nextfloat(nextfloat(i))))\n",
    "println(my_bitstring(prevfloat(1.0)))\n",
    "println(1/2 - prevfloat(1/2))\n",
    "println(nextfloat(1.0) - 1.0)\n",
    "println(2e-52)\n",
    "println(my_bitstring(Float64(1/2)))\n",
    "println(my_bitstring(Float64(1)))\n",
    "println(my_bitstring(Float64(2)))\n",
    "println(my_bitstring(Float64(4)))"
   ]
  }
 ],
 "metadata": {
  "kernelspec": {
   "display_name": "Julia 1.9.3",
   "language": "julia",
   "name": "julia-1.9"
  },
  "language_info": {
   "file_extension": ".jl",
   "mimetype": "application/julia",
   "name": "julia",
   "version": "1.9.3"
  },
  "orig_nbformat": 4
 },
 "nbformat": 4,
 "nbformat_minor": 2
}
