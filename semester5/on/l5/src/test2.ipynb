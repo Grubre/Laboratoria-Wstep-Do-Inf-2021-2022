{
 "cells": [
  {
   "cell_type": "code",
   "execution_count": 6,
   "metadata": {},
   "outputs": [
    {
     "data": {
      "text/plain": [
       "sparse_mat_from_file (generic function with 1 method)"
      ]
     },
     "metadata": {},
     "output_type": "display_data"
    }
   ],
   "source": [
    "function sparse_mat_from_file(filepath)\n",
    "    f = open(filepath, \"r\")\n",
    "    lines = readlines(f)\n",
    "    close(f)\n",
    "\n",
    "    n, l = split(lines[1])\n",
    "    n = parse(Int64, n)\n",
    "    l = parse(Int64, l)\n",
    "\n",
    "    sparse_mat = zeros(n, 2 * l + 1)\n",
    "\n",
    "    for i in 2:length(lines)\n",
    "        i1, j1, val = split(lines[i])\n",
    "        i1 = parse(Int64, i1)\n",
    "        j1 = parse(Int64, j1)\n",
    "        val = parse(Float64, val)\n",
    "\n",
    "        t_j1 = j1 + l - i1 + 1\n",
    "        sparse_mat[i1, t_j1] = val\n",
    "    end\n",
    "\n",
    "    return sparse_mat\n",
    "end"
   ]
  },
  {
   "cell_type": "code",
   "execution_count": 8,
   "metadata": {},
   "outputs": [
    {
     "data": {
      "text/plain": [
       "bandLU! (generic function with 1 method)"
      ]
     },
     "metadata": {},
     "output_type": "display_data"
    }
   ],
   "source": [
    "function bandLU!(a, n, l)\n",
    "    # Kolejne kroki\n",
    "    for k in 1:(n-1)\n",
    "        # Zerowanie kolumny k dla każdego wiersza niżej\n",
    "        for i in (k+1):min(n,k+l)\n",
    "            # Przesunięcie kolumnowe dla wiersza i to (l - i + 1)\n",
    "            o = l - i + 1\n",
    "            # Współczynnik l[i,k] \n",
    "            a[i,k+o] = a[i,k+o] / a[k,l+1]\n",
    "            # Modyfikacja reszty wiersza\n",
    "            for j in (k+1):min(n,k+l)\n",
    "                a[i,j+o] = a[i,j+o] - a[i,k+o] * a[k,j+l-k+1]\n",
    "            end\n",
    "        end\n",
    "    end\n",
    "    return a\n",
    "end"
   ]
  },
  {
   "cell_type": "code",
   "execution_count": 7,
   "metadata": {},
   "outputs": [
    {
     "name": "stdout",
     "output_type": "stream",
     "text": [
      "16×9 Matrix{Float64}:\n",
      " 0.0          0.0         0.0         0.0        0.37517    1.36991    4.5534    -3.53688    0.00983523\n",
      " 0.0          0.0         0.0        -1.30281   -4.35903    0.871167   7.34207    0.0        0.175106\n",
      " 0.0          0.0         4.75774    -2.09952    1.7244    -1.67618    0.0        0.0        0.0159132\n",
      " 0.0          0.0535187   5.52435    -5.13303   -3.31049    0.0        0.0        0.0        0.284416\n",
      " 0.0          0.0         0.0         0.243349  -2.64842   -2.48366    3.27421   -0.188398   0.101303\n",
      " 0.0          0.0         0.0522578  -6.74525    3.08946   -0.509293  -0.116613   0.0        0.122811\n",
      " 0.0          0.174402    6.0566     -1.09845   -4.81315    5.0902     0.0        0.0        0.0294629\n",
      " 0.00140822   4.92139     1.16649     2.9918    -3.24463    0.0        0.0        0.0        0.111404\n",
      " 0.0          0.0         0.0         0.133005   3.0674    -2.34128   -0.932684   0.0810355  0.20671\n",
      " 0.0          0.0         0.203697   -0.143501   2.05243    2.18503   -4.51272    0.0        0.0139636\n",
      " 0.0          0.0730004   0.399956    7.85078   -5.41359    3.13062    0.0        0.0        0.145135\n",
      " 0.0334116   -2.28542    -4.9356      3.01874    5.15191    0.0        0.0        0.0        0.230734\n",
      " 0.0          0.0         0.0         0.240642   5.6066     1.8451    -5.953     -1.93776    0.0\n",
      " 0.0          0.0         0.15197    -1.72149   -2.95201   -2.64518    5.26449    0.0        0.0\n",
      " 0.0          0.168997   -2.29919     4.02429    1.3353    -1.66672    0.0        0.0        0.0\n",
      " 0.0311943   -1.43456    -1.37421     7.798     -0.247148   0.0        0.0        0.0        0.0"
     ]
    }
   ],
   "source": [
    "mat = sparse_mat_from_file(\"../dane/dane16_1_1/A.txt\")\n",
    "\n",
    "show(stdout, \"text/plain\", mat)"
   ]
  }
 ],
 "metadata": {
  "kernelspec": {
   "display_name": "Julia 1.10.0",
   "language": "julia",
   "name": "julia-1.10"
  },
  "language_info": {
   "file_extension": ".jl",
   "mimetype": "application/julia",
   "name": "julia",
   "version": "1.10.0"
  }
 },
 "nbformat": 4,
 "nbformat_minor": 2
}
