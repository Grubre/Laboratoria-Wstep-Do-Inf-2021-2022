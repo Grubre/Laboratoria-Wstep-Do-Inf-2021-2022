{
 "cells": [
  {
   "cell_type": "code",
   "execution_count": 11,
   "metadata": {},
   "outputs": [
    {
     "name": "stderr",
     "output_type": "stream",
     "text": [
      "WARNING: replacing module blocksys.\n",
      "WARNING: using blocksys.sparse_mat_from_file in module Main conflicts with an existing identifier.\n",
      "WARNING: using blocksys.vec_from_file in module Main conflicts with an existing identifier.\n",
      "WARNING: using blocksys.gaussian_elimination in module Main conflicts with an existing identifier.\n"
     ]
    },
    {
     "data": {
      "text/plain": [
       "2.986658830105658e-16"
      ]
     },
     "metadata": {},
     "output_type": "display_data"
    }
   ],
   "source": [
    "include(\"blocksys.jl\")\n",
    "using .blocksys\n",
    "using LinearAlgebra\n",
    "\n",
    "data_path = \"../../dane/dane100000\"\n",
    "a_file = data_path * \"/A.txt\"\n",
    "b_file = data_path * \"/b.txt\"\n",
    "\n",
    "A, n, l = sparse_mat_from_file(a_file)\n",
    "b = vec_from_file(b_file)\n",
    "\n",
    "x = blocksys.gaussian_elimination_pivot(A, n, l, b)\n",
    "abs(norm(x - ones(n))) / norm(x)"
   ]
  }
 ],
 "metadata": {
  "kernelspec": {
   "display_name": "Julia 1.10.0",
   "language": "julia",
   "name": "julia-1.10"
  },
  "language_info": {
   "file_extension": ".jl",
   "mimetype": "application/julia",
   "name": "julia",
   "version": "1.10.0"
  }
 },
 "nbformat": 4,
 "nbformat_minor": 2
}
