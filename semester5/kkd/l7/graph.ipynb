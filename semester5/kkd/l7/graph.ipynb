{
 "cells": [
  {
   "cell_type": "code",
   "execution_count": 1,
   "metadata": {},
   "outputs": [],
   "source": [
    "# function that starts a process with given cmdline args, reads from stdin,\n",
    "# waits till execution finishes and returns the output\n",
    "def run(cmdline):\n",
    "    import subprocess\n",
    "    p = subprocess.Popen(cmdline, stdout=subprocess.PIPE, stdin=subprocess.PIPE)\n",
    "    return p.communicate()[0].decode()"
   ]
  },
  {
   "cell_type": "code",
   "execution_count": 2,
   "metadata": {},
   "outputs": [],
   "source": [
    "num_points = 20"
   ]
  },
  {
   "cell_type": "code",
   "execution_count": 3,
   "metadata": {},
   "outputs": [
    {
     "name": "stderr",
     "output_type": "stream",
     "text": [
      "No artists with labels found to put in legend.  Note that artists whose label start with an underscore are ignored when legend() is called with no argument.\n"
     ]
    },
    {
     "ename": "",
     "evalue": "",
     "output_type": "error",
     "traceback": [
      "\u001b[1;31mThe Kernel crashed while executing code in the the current cell or a previous cell. Please review the code in the cell(s) to identify a possible cause of the failure. Click <a href='https://aka.ms/vscodeJupyterKernelCrash'>here</a> for more info. View Jupyter <a href='command:jupyter.viewOutput'>log</a> for further details."
     ]
    }
   ],
   "source": [
    "import matplotlib.pyplot as plt\n",
    "import tempfile\n",
    "\n",
    "file = \"./pan-tadeusz-czyli-ostatni-zajazd-na-litwie.txt\"\n",
    "x_vals = [i/num_points for i in range(num_points + 1)]\n",
    "y1_vals = []\n",
    "y2_vals = []\n",
    "y3_vals = []\n",
    "for p in x_vals:\n",
    "    with tempfile.NamedTemporaryFile() as tmp:\n",
    "        pass\n",
    "        run([\"./szum\", str(p), file, tmp.name])\n",
    "        ex1 = run([\"./sprawdz\", file, tmp.name])\n",
    "        y1_vals.append(float(ex1))\n",
    "\n",
    "for p in x_vals:\n",
    "    with tempfile.NamedTemporaryFile() as tmp:\n",
    "        with tempfile.NamedTemporaryFile() as tmp2:\n",
    "            run([\"./koder\", file, tmp.name])\n",
    "            run([\"./szum\", str(p), tmp.name, tmp2.name])\n",
    "            ex2 = run([\"./dekoder\", tmp2.name, tmp.name])\n",
    "            y2_vals.append(float(ex2))\n",
    "\n",
    "for p in x_vals:\n",
    "    with tempfile.NamedTemporaryFile() as tmp:\n",
    "        with tempfile.NamedTemporaryFile() as tmp2:\n",
    "            with tempfile.NamedTemporaryFile() as tmp3:\n",
    "                run([\"./koder\", file, tmp.name])\n",
    "                run([\"./szum\", str(p), tmp.name, tmp2.name])\n",
    "                run([\"./dekoder\", tmp2.name, tmp3.name])\n",
    "                ex3 = run([\"./sprawdz\", file, tmp3.name])\n",
    "                y3_vals.append(float(ex3))\n",
    "\n",
    "plt.plot(x_vals, y1_vals, label=\"ex1\")\n",
    "plt.plot(x_vals, y2_vals, label=\"ex2\")\n",
    "plt.plot(x_vals, y3_vals, label=\"ex3\")\n",
    "plt.legend()\n",
    "plt.show()"
   ]
  },
  {
   "cell_type": "markdown",
   "metadata": {},
   "source": []
  }
 ],
 "metadata": {
  "kernelspec": {
   "display_name": "Python 3",
   "language": "python",
   "name": "python3"
  },
  "language_info": {
   "codemirror_mode": {
    "name": "ipython",
    "version": 3
   },
   "file_extension": ".py",
   "mimetype": "text/x-python",
   "name": "python",
   "nbconvert_exporter": "python",
   "pygments_lexer": "ipython3",
   "version": "3.11.6"
  }
 },
 "nbformat": 4,
 "nbformat_minor": 2
}
