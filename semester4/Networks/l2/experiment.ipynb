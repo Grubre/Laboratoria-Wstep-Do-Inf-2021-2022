{
 "cells": [
  {
   "cell_type": "code",
   "execution_count": null,
   "metadata": {},
   "outputs": [],
   "source": [
    "import random\n",
    "import networkx as nx\n",
    "import numpy as np\n",
    "import matplotlib.pyplot as plt\n",
    "from typing import List"
   ]
  },
  {
   "cell_type": "code",
   "execution_count": 115,
   "metadata": {},
   "outputs": [],
   "source": [
    "def construct_N_matrix(intensity: int):\n",
    "    N = [[0 if i == j else (i % 6) * intensity for i in range(0, 20)] for j in range(0, 20)]\n",
    "    return N"
   ]
  },
  {
   "cell_type": "code",
   "execution_count": null,
   "metadata": {},
   "outputs": [],
   "source": [
    "def construct_handcrafted_graph(CAPACITY: int):\n",
    "    G = nx.null_graph()\n",
    "    G.add_edge(0, 1, a = 0, c = CAPACITY)\n",
    "    G.add_edge(0, 19, a = 0, c = CAPACITY)\n",
    "    G.add_edge(1, 2, a = 0, c = CAPACITY)\n",
    "    G.add_edge(2, 3, a = 0, c = CAPACITY)\n",
    "    G.add_edge(3, 4, a = 0, c = CAPACITY)\n",
    "    G.add_edge(3, 17, a = 0, c = CAPACITY)\n",
    "    G.add_edge(4, 5, a = 0, c = CAPACITY)\n",
    "    G.add_edge(4, 19, a = 0, c = CAPACITY)\n",
    "    G.add_edge(5, 6, a = 0, c = CAPACITY)\n",
    "    G.add_edge(5, 14, a = 0, c = CAPACITY)\n",
    "    G.add_edge(6, 7, a = 0, c = CAPACITY)\n",
    "    G.add_edge(7, 8, a = 0, c = CAPACITY)\n",
    "    G.add_edge(7, 12, a = 0, c = CAPACITY)\n",
    "    G.add_edge(8, 9, a = 0, c = CAPACITY)\n",
    "    G.add_edge(9, 10, a = 0, c = CAPACITY)\n",
    "    G.add_edge(9, 12, a = 0, c = CAPACITY)\n",
    "    G.add_edge(10, 11, a = 0, c = CAPACITY)\n",
    "    G.add_edge(11, 12, a = 0, c = CAPACITY)\n",
    "    G.add_edge(12, 13, a = 0, c = CAPACITY)\n",
    "    G.add_edge(12, 19, a = 0, c = CAPACITY)\n",
    "    G.add_edge(13, 19, a = 0, c = CAPACITY)\n",
    "    G.add_edge(14, 15, a = 0, c = CAPACITY)\n",
    "    G.add_edge(15, 16, a = 0, c = CAPACITY)\n",
    "    G.add_edge(15, 19, a = 0, c = CAPACITY)\n",
    "    G.add_edge(16, 17, a = 0, c = CAPACITY)\n",
    "    G.add_edge(16, 18, a = 0, c = CAPACITY)\n",
    "    G.add_edge(17, 18, a = 0, c = CAPACITY)\n",
    "    return G"
   ]
  },
  {
   "cell_type": "code",
   "execution_count": null,
   "metadata": {},
   "outputs": [],
   "source": [
    "def reset_flow_func(G: nx.Graph):\n",
    "    for (u,v) in G.edges:\n",
    "        edge = G[u][v]\n",
    "        edge[\"a\"] = 0"
   ]
  },
  {
   "cell_type": "code",
   "execution_count": null,
   "metadata": {},
   "outputs": [],
   "source": [
    "def set_capacity(G: nx.Graph, capacity: int):\n",
    "    for (u,v) in G.edges:\n",
    "        edge = G[u][v]\n",
    "        edge[\"c\"] = capacity"
   ]
  },
  {
   "cell_type": "code",
   "execution_count": null,
   "metadata": {},
   "outputs": [],
   "source": [
    "def simulate_flow(G: nx.Graph, N: List[List[int]]):\n",
    "    reset_flow_func(G)\n",
    "    for i in range(len(N)):\n",
    "        for j in range(len(N[i])):\n",
    "            path = nx.shortest_path(G,i,j)\n",
    "            if len(path) > 1:\n",
    "                for e in range(len(path) - 1):\n",
    "                    G[path[e]][path[e + 1]][\"a\"] += N[i - 1][j - 1]"
   ]
  },
  {
   "cell_type": "code",
   "execution_count": null,
   "metadata": {},
   "outputs": [],
   "source": [
    "cached_pos = None\n",
    "\n",
    "def draw(graph: nx.Graph):\n",
    "    global cached_pos\n",
    "    if cached_pos is None:\n",
    "        cached_pos = nx.spring_layout(graph, iterations=1000, seed=10)\n",
    "    pos = cached_pos\n",
    "    nx.draw_networkx(graph, pos, node_color='#ab4b44', edge_color='white')\n",
    "    edge_labels = nx.get_edge_attributes(graph,'a')\n",
    "    # nx.draw_networkx_edge_labels(graph, pos, edge_labels = edge_labels, font_size=6)\n",
    "    # nx.draw_networkx_labels(graph, pos)\n",
    "    plt.savefig('graph2.png', transparent=True)\n",
    "    plt.show()"
   ]
  },
  {
   "cell_type": "code",
   "execution_count": null,
   "metadata": {},
   "outputs": [],
   "source": [
    "def latency(graph: nx.Graph, N: List[List[int]], m: int):\n",
    "    G = sum(sum(N,[]))\n",
    "    s = sum(data['a'] / (data['c'] / m - data['a']) for (_,_,data) in graph.edges(data = True))\n",
    "    return s / G"
   ]
  },
  {
   "cell_type": "code",
   "execution_count": null,
   "metadata": {},
   "outputs": [],
   "source": [
    "def experiment(G: nx.Graph, N: List[List[int]], probability: float, m: int):\n",
    "    T = G.copy()\n",
    "    \n",
    "    removed = False\n",
    "    # remove random edges\n",
    "    for (u,v) in T.edges:\n",
    "        p = random.random()\n",
    "        if p > probability:\n",
    "            removed = True\n",
    "            T.remove_edge(u,v)\n",
    "\n",
    "    if not nx.is_connected(T):\n",
    "        # draw(T)\n",
    "        return False\n",
    "\n",
    "    # check if the network is not overloaded\n",
    "    simulate_flow(T, N)\n",
    "    for (u,v,data) in T.edges(data = True):\n",
    "        if data['a'] * 8 * 1500 >= data['c']:\n",
    "            return False\n",
    "    return latency(T, N, m)"
   ]
  },
  {
   "cell_type": "code",
   "execution_count": 150,
   "metadata": {},
   "outputs": [],
   "source": [
    "# parameters\n",
    "MAX_PROPAGATION = 0.3#s\n",
    "CAPACITY = 1_000_000_000 #Gb/s\n",
    "AVG_BITS_PER_PACKET = 12_000\n",
    "INTENSITY = 267\n",
    "PROBABILITY = 0.995\n",
    "\n",
    "N = construct_N_matrix(INTENSITY)\n",
    "T = construct_handcrafted_graph(CAPACITY)"
   ]
  },
  {
   "attachments": {},
   "cell_type": "markdown",
   "metadata": {},
   "source": [
    "Obliczanie niezawodności"
   ]
  },
  {
   "cell_type": "code",
   "execution_count": 151,
   "metadata": {},
   "outputs": [
    {
     "data": {
      "image/png": "[encoded data removed]",
      "text/plain": [
       "<Figure size 640x480 with 1 Axes>"
      ]
     },
     "metadata": {},
     "output_type": "display_data"
    },
    {
     "name": "stdout",
     "output_type": "stream",
     "text": [
      "0.95128\n"
     ]
    }
   ],
   "source": [
    "#base test\n",
    "successes = 0\n",
    "for i in range(50000):\n",
    "    result = experiment(T, N, PROBABILITY, AVG_BITS_PER_PACKET)\n",
    "    if result is not False:\n",
    "        successes += 1\n",
    "\n",
    "draw(T)\n",
    "print(successes / 50000)"
   ]
  },
  {
   "attachments": {},
   "cell_type": "markdown",
   "metadata": {},
   "source": [
    "Zwiększanie intensity - eksperyment"
   ]
  },
  {
   "cell_type": "code",
   "execution_count": 154,
   "metadata": {},
   "outputs": [
    {
     "name": "stdout",
     "output_type": "stream",
     "text": [
      "0.9994\n",
      "0.9992\n",
      "0.9994\n",
      "0.9932\n",
      "0.9924\n",
      "0.9922\n",
      "0.9906\n",
      "0.978\n",
      "0.9494\n",
      "0.016\n",
      "0.011\n",
      "0.0076\n",
      "0.0104\n",
      "0.0\n",
      "0.0\n",
      "0.0\n"
     ]
    }
   ],
   "source": [
    "graph_data = []\n",
    "for factor in np.arange(0.6, 1.4, 0.05):\n",
    "    N = construct_N_matrix(factor * INTENSITY)\n",
    "    successes = 0\n",
    "    for i in range(5000):\n",
    "        result = experiment(T, N, PROBABILITY, AVG_BITS_PER_PACKET)\n",
    "        if result is not False:\n",
    "            successes += 1\n",
    "    print(successes / 5000)\n",
    "    graph_data.append((factor, successes / 5000))"
   ]
  },
  {
   "attachments": {},
   "cell_type": "markdown",
   "metadata": {},
   "source": [
    "Zwiększanie intensity - wykres"
   ]
  },
  {
   "cell_type": "code",
   "execution_count": 155,
   "metadata": {},
   "outputs": [
    {
     "name": "stdout",
     "output_type": "stream",
     "text": [
      "[(0.6, 0.9994), (0.65, 0.9992), (0.7000000000000001, 0.9994), (0.7500000000000001, 0.9932), (0.8000000000000002, 0.9924), (0.8500000000000002, 0.9922), (0.9000000000000002, 0.9906), (0.9500000000000003, 0.978), (1.0000000000000004, 0.9494), (1.0500000000000003, 0.016), (1.1000000000000005, 0.011), (1.1500000000000004, 0.0076), (1.2000000000000006, 0.0104), (1.2500000000000004, 0.0), (1.3000000000000007, 0.0), (1.3500000000000005, 0.0)]\n"
     ]
    },
    {
     "data": {
      "image/png": "[encoded data removed]",
      "text/plain": [
       "<Figure size 640x480 with 1 Axes>"
      ]
     },
     "metadata": {},
     "output_type": "display_data"
    }
   ],
   "source": [
    "print(graph_data)\n",
    "\n",
    "x_values = [point[0] for point in graph_data]\n",
    "y_values = [point[1] for point in graph_data]\n",
    "\n",
    "plt.style.use('dark_background')\n",
    "plt.plot(x_values, y_values)\n",
    "\n",
    "plt.xlabel('Współczynnik')\n",
    "plt.ylabel('Niezawodność')\n",
    "\n",
    "plt.title('Zwiększanie natężenia')\n",
    "\n",
    "plt.savefig('intensity.png', transparent=True)\n",
    "plt.show()"
   ]
  },
  {
   "attachments": {},
   "cell_type": "markdown",
   "metadata": {},
   "source": [
    "Zwiększanie przepustowości - eksperyment"
   ]
  },
  {
   "cell_type": "code",
   "execution_count": null,
   "metadata": {},
   "outputs": [],
   "source": [
    "graph_data_capacity = []\n",
    "for factor in np.arange(0.6, 1.4, 0.05):\n",
    "    T = construct_handcrafted_graph(factor * CAPACITY)\n",
    "    successes = 0\n",
    "    for i in range(5000):\n",
    "        result = experiment(T, N, PROBABILITY, AVG_BITS_PER_PACKET)\n",
    "        if result is not False:\n",
    "            successes += 1\n",
    "    print(successes / 5000)\n",
    "    graph_data_capacity.append((factor, successes / 5000))"
   ]
  },
  {
   "attachments": {},
   "cell_type": "markdown",
   "metadata": {},
   "source": [
    "Zwiększanie przepustowości - wykres"
   ]
  },
  {
   "cell_type": "code",
   "execution_count": null,
   "metadata": {},
   "outputs": [],
   "source": [
    "print(graph_data_capacity)\n",
    "\n",
    "x_values = [point[0] for point in graph_data_capacity]\n",
    "y_values = [point[1] for point in graph_data_capacity]\n",
    "\n",
    "plt.style.use('dark_background')\n",
    "plt.plot(x_values, y_values)\n",
    "\n",
    "plt.xlabel('Współczynnik')\n",
    "plt.ylabel('Niezawodność')\n",
    "\n",
    "plt.title('Zwiększanie przepustowości')\n",
    "\n",
    "plt.savefig('capacity.png', transparent=True)\n",
    "plt.show()"
   ]
  },
  {
   "attachments": {},
   "cell_type": "markdown",
   "metadata": {},
   "source": [
    "Dodawanie krawędzi - eksperyment"
   ]
  },
  {
   "cell_type": "code",
   "execution_count": null,
   "metadata": {},
   "outputs": [],
   "source": [
    "graph_data_edges = []\n",
    "T = construct_handcrafted_graph(CAPACITY)\n",
    "for additions in range(1, 20):\n",
    "    while True:\n",
    "        new_edges = random.sample(range(0,20), 2)\n",
    "        u = new_edges[0]\n",
    "        v = new_edges[1]\n",
    "        if not T.has_edge(u, v):\n",
    "            print(\"new edge: \" + str(u) + \", \" + str(v))\n",
    "            T.add_edge(u, v, a = 0, c = CAPACITY)\n",
    "            break\n",
    "    successes = 0\n",
    "    for i in range(5000):\n",
    "        result = experiment(T, N, PROBABILITY, AVG_BITS_PER_PACKET)\n",
    "        if result is not False:\n",
    "            successes += 1\n",
    "    print(successes / 5000)\n",
    "    graph_data_edges.append((additions, successes / 5000))"
   ]
  },
  {
   "attachments": {},
   "cell_type": "markdown",
   "metadata": {},
   "source": [
    "Dodawanie krawędzi - wykres"
   ]
  },
  {
   "cell_type": "code",
   "execution_count": null,
   "metadata": {},
   "outputs": [],
   "source": [
    "print(graph_data_edges)\n",
    "\n",
    "x_values = [point[0] for point in graph_data_edges]\n",
    "y_values = [point[1] for point in graph_data_edges]\n",
    "\n",
    "plt.style.use('dark_background')\n",
    "plt.plot(x_values, y_values)\n",
    "\n",
    "plt.xlabel('Ilość dodatkowych krawędzi')\n",
    "plt.ylabel('Niezawodność')\n",
    "\n",
    "plt.title('Dodatkowe krawędzie')\n",
    "\n",
    "plt.savefig('edges.png', transparent=True)\n",
    "plt.show()"
   ]
  },
  {
   "cell_type": "code",
   "execution_count": null,
   "metadata": {},
   "outputs": [],
   "source": [
    "draw(T)"
   ]
  }
 ],
 "metadata": {
  "kernelspec": {
   "display_name": "Python 3",
   "language": "python",
   "name": "python3"
  },
  "language_info": {
   "codemirror_mode": {
    "name": "ipython",
    "version": 3
   },
   "file_extension": ".py",
   "mimetype": "text/x-python",
   "name": "python",
   "nbconvert_exporter": "python",
   "pygments_lexer": "ipython3",
   "version": "3.11.3"
  },
  "orig_nbformat": 4
 },
 "nbformat": 4,
 "nbformat_minor": 2
}
