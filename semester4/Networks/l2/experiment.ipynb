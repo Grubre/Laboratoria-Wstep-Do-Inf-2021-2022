{
 "cells": [
  {
   "cell_type": "code",
   "execution_count": null,
   "metadata": {},
   "outputs": [],
   "source": [
    "import random\n",
    "import networkx as nx\n",
    "import numpy as np\n",
    "import matplotlib.pyplot as plt\n",
    "from typing import List"
   ]
  },
  {
   "cell_type": "code",
   "execution_count": null,
   "metadata": {},
   "outputs": [],
   "source": [
    "def construct_N_matrix(intensity: int):\n",
    "    N = [[0 if i == j else (i % 3) * intensity for i in range(0, 20)] for j in range(0, 20)]\n",
    "    return N"
   ]
  },
  {
   "cell_type": "code",
   "execution_count": null,
   "metadata": {},
   "outputs": [],
   "source": [
    "def construct_handcrafted_graph(CAPACITY: int):\n",
    "    G = nx.null_graph()\n",
    "    G.add_edge(0, 1, a = 0, c = CAPACITY)\n",
    "    G.add_edge(0, 19, a = 0, c = CAPACITY)\n",
    "    G.add_edge(1, 2, a = 0, c = CAPACITY)\n",
    "    G.add_edge(2, 3, a = 0, c = CAPACITY)\n",
    "    G.add_edge(3, 4, a = 0, c = CAPACITY)\n",
    "    G.add_edge(3, 17, a = 0, c = CAPACITY)\n",
    "    G.add_edge(4, 5, a = 0, c = CAPACITY)\n",
    "    G.add_edge(4, 19, a = 0, c = CAPACITY)\n",
    "    G.add_edge(5, 6, a = 0, c = CAPACITY)\n",
    "    G.add_edge(5, 14, a = 0, c = CAPACITY)\n",
    "    G.add_edge(6, 7, a = 0, c = CAPACITY)\n",
    "    G.add_edge(7, 8, a = 0, c = CAPACITY)\n",
    "    G.add_edge(7, 12, a = 0, c = CAPACITY)\n",
    "    G.add_edge(8, 9, a = 0, c = CAPACITY)\n",
    "    G.add_edge(9, 10, a = 0, c = CAPACITY)\n",
    "    G.add_edge(9, 12, a = 0, c = CAPACITY)\n",
    "    G.add_edge(10, 11, a = 0, c = CAPACITY)\n",
    "    G.add_edge(11, 12, a = 0, c = CAPACITY)\n",
    "    G.add_edge(12, 13, a = 0, c = CAPACITY)\n",
    "    G.add_edge(12, 19, a = 0, c = CAPACITY)\n",
    "    G.add_edge(13, 19, a = 0, c = CAPACITY)\n",
    "    G.add_edge(14, 15, a = 0, c = CAPACITY)\n",
    "    G.add_edge(15, 16, a = 0, c = CAPACITY)\n",
    "    G.add_edge(15, 19, a = 0, c = CAPACITY)\n",
    "    G.add_edge(16, 17, a = 0, c = CAPACITY)\n",
    "    G.add_edge(16, 18, a = 0, c = CAPACITY)\n",
    "    G.add_edge(17, 18, a = 0, c = CAPACITY)\n",
    "    return G"
   ]
  },
  {
   "cell_type": "code",
   "execution_count": null,
   "metadata": {},
   "outputs": [],
   "source": [
    "def reset_flow_func(G: nx.Graph):\n",
    "    for (u,v) in G.edges:\n",
    "        edge = G[u][v]\n",
    "        edge[\"a\"] = 0"
   ]
  },
  {
   "cell_type": "code",
   "execution_count": null,
   "metadata": {},
   "outputs": [],
   "source": [
    "def set_capacity(G: nx.Graph, capacity: int):\n",
    "    for (u,v) in G.edges:\n",
    "        edge = G[u][v]\n",
    "        edge[\"c\"] = capacity"
   ]
  },
  {
   "cell_type": "code",
   "execution_count": null,
   "metadata": {},
   "outputs": [],
   "source": [
    "def simulate_flow(G: nx.Graph, N: List[List[int]]):\n",
    "    reset_flow_func(G)\n",
    "    for j in range(len(N)):\n",
    "        for i in range(len(N[j])):\n",
    "            # print(\"Going from \" + str(i) + \" to \" + str(j))\n",
    "            path = nx.shortest_path(G,i,j)\n",
    "            if len(path) > 1:\n",
    "                # print(path)\n",
    "                for e in range(len(path) - 1):\n",
    "                    G[path[e]][path[e + 1]][\"a\"] += N[path[e]][path[e+1]]"
   ]
  },
  {
   "cell_type": "code",
   "execution_count": 60,
   "metadata": {},
   "outputs": [],
   "source": [
    "cached_pos = None\n",
    "\n",
    "def draw(graph: nx.Graph):\n",
    "    global cached_pos\n",
    "    if cached_pos is None:\n",
    "        cached_pos = nx.spring_layout(graph, iterations=1000, seed=10)\n",
    "    pos = cached_pos\n",
    "    nx.draw_networkx(graph, pos, node_color='#ab4b44', edge_color='white')\n",
    "    # edge_labels = nx.get_edge_attributes(graph,'a')\n",
    "    # nx.draw_networkx_edge_labels(graph, pos, edge_labels = edge_labels, font_size=6)\n",
    "    nx.draw_networkx_labels(graph, pos)\n",
    "    plt.savefig('graph2.png', transparent=True)\n",
    "    plt.show()"
   ]
  },
  {
   "cell_type": "code",
   "execution_count": null,
   "metadata": {},
   "outputs": [],
   "source": [
    "def latency(graph: nx.Graph, N: List[List[int]], m: int):\n",
    "    G = sum(sum(N,[]))\n",
    "    s = sum(data['a'] / (data['c'] / m - data['a']) for (_,_,data) in graph.edges(data = True))\n",
    "    return s / G"
   ]
  },
  {
   "cell_type": "code",
   "execution_count": null,
   "metadata": {},
   "outputs": [],
   "source": [
    "def experiment(G: nx.Graph, N: List[List[int]], probability: float, m: int):\n",
    "    T = G.copy()\n",
    "    \n",
    "    removed = False\n",
    "    # remove random edges\n",
    "    for (u,v) in T.edges:\n",
    "        p = random.random()\n",
    "        if p > probability:\n",
    "            removed = True\n",
    "            T.remove_edge(u,v)\n",
    "\n",
    "    if not nx.is_connected(T):\n",
    "        # draw(T)\n",
    "        return False\n",
    "\n",
    "    # check if the network is not overloaded\n",
    "    simulate_flow(T, N)\n",
    "    for (u,v,data) in T.edges(data = True):\n",
    "        if data['a'] * 8 * 1500 >= data['c']:\n",
    "            return False\n",
    "    return latency(T, N, m)"
   ]
  },
  {
   "cell_type": "code",
   "execution_count": null,
   "metadata": {},
   "outputs": [],
   "source": [
    "# parameters\n",
    "MAX_PROPAGATION = 0.3#s\n",
    "CAPACITY = 1_000_000_000 #Gb/s\n",
    "AVG_BITS_PER_PACKET = 12_000\n",
    "INTENSITY = 1000\n",
    "PROBABILITY = 0.995\n",
    "\n",
    "N = construct_N_matrix(INTENSITY)\n",
    "T = construct_handcrafted_graph(CAPACITY)"
   ]
  },
  {
   "cell_type": "code",
   "execution_count": null,
   "metadata": {},
   "outputs": [],
   "source": [
    "# base test\n",
    "# draw(T)\n",
    "# successes = 0\n",
    "# for i in range(100000):\n",
    "#     result = experiment(T, N, PROBABILITY, AVG_BITS_PER_PACKET)\n",
    "#     if result is not False:\n",
    "#         successes += 1\n",
    "\n",
    "# print(successes)"
   ]
  },
  {
   "cell_type": "code",
   "execution_count": null,
   "metadata": {},
   "outputs": [],
   "source": [
    "graph_data = []"
   ]
  },
  {
   "cell_type": "code",
   "execution_count": null,
   "metadata": {},
   "outputs": [],
   "source": [
    "for intensity in range(100, 3000, 50):\n",
    "    N = construct_N_matrix(intensity)\n",
    "    successes = 0\n",
    "    for i in range(5000):\n",
    "        result = experiment(T, N, PROBABILITY, AVG_BITS_PER_PACKET)\n",
    "        if result is not False:\n",
    "            successes += 1\n",
    "    print(successes / 5000)\n",
    "    graph_data.append((intensity, successes / 5000))"
   ]
  },
  {
   "cell_type": "code",
   "execution_count": null,
   "metadata": {},
   "outputs": [],
   "source": [
    "print(graph_data)\n",
    "\n",
    "x_values = [point[0] for point in graph_data]\n",
    "y_values = [point[1] for point in graph_data]\n",
    "\n",
    "plt.style.use('dark_background')\n",
    "plt.plot(x_values, y_values)\n",
    "\n",
    "plt.xlabel('Intensity')\n",
    "plt.ylabel('Niezawodność')\n",
    "\n",
    "plt.title('Zwiększanie natężenia')\n",
    "\n",
    "plt.savefig('intensity.png', transparent=True)\n",
    "plt.show()"
   ]
  },
  {
   "cell_type": "code",
   "execution_count": null,
   "metadata": {},
   "outputs": [],
   "source": [
    "graph_data_capacity = []"
   ]
  },
  {
   "cell_type": "code",
   "execution_count": null,
   "metadata": {},
   "outputs": [],
   "source": [
    "for factor in np.arange(0.6, 1.4, 0.05):\n",
    "    T = construct_handcrafted_graph(factor * CAPACITY)\n",
    "    successes = 0\n",
    "    for i in range(5000):\n",
    "        result = experiment(T, N, PROBABILITY, AVG_BITS_PER_PACKET)\n",
    "        if result is not False:\n",
    "            successes += 1\n",
    "    print(successes / 5000)\n",
    "    graph_data_capacity.append((factor, successes / 5000))"
   ]
  },
  {
   "cell_type": "code",
   "execution_count": null,
   "metadata": {},
   "outputs": [],
   "source": [
    "print(graph_data_capacity)\n",
    "\n",
    "x_values = [point[0] for point in graph_data_capacity]\n",
    "y_values = [point[1] for point in graph_data_capacity]\n",
    "\n",
    "plt.style.use('dark_background')\n",
    "plt.plot(x_values, y_values)\n",
    "\n",
    "plt.xlabel('Współczynnik')\n",
    "plt.ylabel('Niezawodność')\n",
    "\n",
    "plt.title('Zwiększanie przepustowości')\n",
    "\n",
    "plt.savefig('capacity.png', transparent=True)\n",
    "plt.show()"
   ]
  },
  {
   "cell_type": "code",
   "execution_count": null,
   "metadata": {},
   "outputs": [],
   "source": [
    "graph_data_edges = []"
   ]
  },
  {
   "cell_type": "code",
   "execution_count": null,
   "metadata": {},
   "outputs": [],
   "source": [
    "T = construct_handcrafted_graph(CAPACITY)\n",
    "for additions in range(1, 20):\n",
    "    while True:\n",
    "        new_edges = random.sample(range(0,20), 2)\n",
    "        u = new_edges[0]\n",
    "        v = new_edges[1]\n",
    "        if not T.has_edge(u, v):\n",
    "            print(\"new edge: \" + str(u) + \", \" + str(v))\n",
    "            T.add_edge(u, v, a = 0, c = CAPACITY)\n",
    "            break\n",
    "    successes = 0\n",
    "    for i in range(5000):\n",
    "        result = experiment(T, N, PROBABILITY, AVG_BITS_PER_PACKET)\n",
    "        if result is not False:\n",
    "            successes += 1\n",
    "    print(successes / 5000)\n",
    "    graph_data_edges.append((additions, successes / 5000))"
   ]
  },
  {
   "cell_type": "code",
   "execution_count": 56,
   "metadata": {},
   "outputs": [
    {
     "name": "stdout",
     "output_type": "stream",
     "text": [
      "[(1, 0.9318), (2, 0.9662), (3, 0.9676), (4, 0.974), (5, 0.976), (6, 0.9852), (7, 0.9936), (8, 1.0), (9, 0.9998), (10, 0.9994), (11, 1.0), (12, 1.0), (13, 1.0)]\n"
     ]
    },
    {
     "data": {
      "image/png": "[encoded data removed]",
      "text/plain": [
       "<Figure size 640x480 with 1 Axes>"
      ]
     },
     "metadata": {},
     "output_type": "display_data"
    }
   ],
   "source": [
    "print(graph_data_edges)\n",
    "\n",
    "x_values = [point[0] for point in graph_data_edges]\n",
    "y_values = [point[1] for point in graph_data_edges]\n",
    "\n",
    "plt.style.use('dark_background')\n",
    "plt.plot(x_values, y_values)\n",
    "\n",
    "plt.xlabel('Ilość dodatkowych krawędzi')\n",
    "plt.ylabel('Niezawodność')\n",
    "\n",
    "plt.title('Dodatkowe krawędzie')\n",
    "\n",
    "plt.savefig('edges.png', transparent=True)\n",
    "plt.show()"
   ]
  },
  {
   "cell_type": "code",
   "execution_count": 61,
   "metadata": {},
   "outputs": [
    {
     "data": {
      "image/png": "[encoded data removed]",
      "text/plain": [
       "<Figure size 640x480 with 1 Axes>"
      ]
     },
     "metadata": {},
     "output_type": "display_data"
    }
   ],
   "source": [
    "draw(T)"
   ]
  }
 ],
 "metadata": {
  "kernelspec": {
   "display_name": "Python 3",
   "language": "python",
   "name": "python3"
  },
  "language_info": {
   "codemirror_mode": {
    "name": "ipython",
    "version": 3
   },
   "file_extension": ".py",
   "mimetype": "text/x-python",
   "name": "python",
   "nbconvert_exporter": "python",
   "pygments_lexer": "ipython3",
   "version": "3.10.10"
  },
  "orig_nbformat": 4
 },
 "nbformat": 4,
 "nbformat_minor": 2
}
