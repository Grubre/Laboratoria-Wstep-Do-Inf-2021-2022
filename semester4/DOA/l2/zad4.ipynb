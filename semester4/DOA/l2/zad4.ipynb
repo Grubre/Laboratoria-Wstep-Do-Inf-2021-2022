{
 "cells": [
  {
   "cell_type": "code",
   "execution_count": 1,
   "metadata": {},
   "outputs": [],
   "source": [
    "using JuMP\n",
    "using GLPK\n",
    "using Random"
   ]
  },
  {
   "cell_type": "code",
   "execution_count": 2,
   "metadata": {},
   "outputs": [
    {
     "data": {
      "text/plain": [
       "10"
      ]
     },
     "metadata": {},
     "output_type": "display_data"
    }
   ],
   "source": [
    "n = 10\n",
    "m = 10\n",
    "\n",
    "k_values = [2, 5]"
   ]
  },
  {
   "cell_type": "code",
   "execution_count": 12,
   "metadata": {},
   "outputs": [
    {
     "name": "stdout",
     "output_type": "stream",
     "text": [
      "21Placed "
     ]
    },
    {
     "data": {
      "text/plain": [
       "10×10 Matrix{Float64}:\n",
       " 0.0  0.0  0.0  0.0  0.0  0.0  0.0  0.0  0.0  0.0\n",
       " 0.0  0.0  0.0  0.0  0.0  1.0  0.0  0.0  0.0  0.0\n",
       " 0.0  0.0  0.0  1.0  0.0  0.0  0.0  0.0  0.0  0.0\n",
       " 0.0  0.0  1.0  0.0  0.0  0.0  0.0  0.0  0.0  0.0\n",
       " 0.0  0.0  0.0  0.0  0.0  0.0  1.0  0.0  0.0  0.0\n",
       " 0.0  0.0  0.0  0.0  0.0  0.0  0.0  0.0  0.0  0.0\n",
       " 0.0  1.0  1.0  0.0  0.0  0.0  0.0  0.0  0.0  1.0\n",
       " 0.0  0.0  0.0  0.0  0.0  0.0  1.0  0.0  0.0  0.0\n",
       " 0.0  0.0  0.0  0.0  0.0  1.0  0.0  0.0  0.0  0.0\n",
       " 1.0  0.0  0.0  0.0  0.0  0.0  0.0  0.0  0.0  0.0"
      ]
     },
     "metadata": {},
     "output_type": "display_data"
    },
    {
     "data": {
      "text/plain": [
       "10×10 Matrix{Float64}:\n",
       " 0.0  0.0  0.0  0.0  0.0  0.0  0.0  0.0  0.0  0.0\n",
       " 0.0  0.0  0.0  0.0  0.0  0.0  0.0  0.0  0.0  0.0\n",
       " 0.0  0.0  0.0  0.0  0.0  0.0  0.0  0.0  0.0  0.0\n",
       " 0.0  0.0  0.0  0.0  0.0  1.0  0.0  0.0  0.0  0.0\n",
       " 0.0  0.0  0.0  0.0  0.0  0.0  0.0  0.0  0.0  0.0\n",
       " 0.0  0.0  0.0  0.0  0.0  0.0  0.0  0.0  0.0  0.0\n",
       " 0.0  0.0  0.0  0.0  1.0  0.0  0.0  0.0  0.0  0.0\n",
       " 0.0  0.0  0.0  0.0  0.0  0.0  1.0  0.0  0.0  0.0\n",
       " 0.0  0.0  0.0  0.0  0.0  1.0  0.0  0.0  0.0  0.0\n",
       " 0.0  1.0  0.0  0.0  0.0  0.0  0.0  0.0  0.0  0.0"
      ]
     },
     "metadata": {},
     "output_type": "display_data"
    },
    {
     "name": "stdout",
     "output_type": "stream",
     "text": [
      "10.0 cameras\n",
      "Placed 5.0 cameras\n"
     ]
    }
   ],
   "source": [
    "T = [\n",
    "    0 0 0 0 0 0 0 0 0 0;\n",
    "    0 0 0 0 1 0 0 0 0 0;\n",
    "    0 0 0 0 1 1 1 0 0 0;\n",
    "    1 1 0 0 1 0 0 0 0 0;\n",
    "    0 0 0 0 1 1 0 0 0 0;\n",
    "    0 0 0 0 0 0 0 0 0 0;\n",
    "    0 0 0 0 0 1 1 1 0 0;\n",
    "    0 0 0 0 0 0 0 1 1 1;\n",
    "    1 1 1 1 1 0 0 0 0 0;\n",
    "    0 0 1 0 0 0 0 0 0 0;\n",
    "]\n",
    "\n",
    "print(sum(T))\n",
    "\n",
    "\n",
    "for k in k_values\n",
    "    model = Model(GLPK.Optimizer)\n",
    "    @variable(model, x[1:n, 1:m], Bin)\n",
    "\n",
    "    @objective(model, Min, sum(x))\n",
    "\n",
    "    for i in 1:n, j in 1:m\n",
    "        if T[i, j] == 1\n",
    "            @constraint(model, sum(x[max(1, i - k):min(n, i + k), j]) + sum(x[i, max(1, j - k):min(m, j + k)]) - x[i, j] >= 1)\n",
    "        end\n",
    "        @constraint(model, x[i,j] + T[i,j] <= 1)\n",
    "    end\n",
    "\n",
    "    optimize!(model)\n",
    "\n",
    "    println(\"Placed \", objective_value(model), \" cameras\")\n",
    "    display(value.(x))\n",
    "end\n"
   ]
  }
 ],
 "metadata": {
  "kernelspec": {
   "display_name": "Julia 1.8.5",
   "language": "julia",
   "name": "julia-1.8"
  },
  "language_info": {
   "file_extension": ".jl",
   "mimetype": "application/julia",
   "name": "julia",
   "version": "1.8.5"
  },
  "orig_nbformat": 4
 },
 "nbformat": 4,
 "nbformat_minor": 2
}
