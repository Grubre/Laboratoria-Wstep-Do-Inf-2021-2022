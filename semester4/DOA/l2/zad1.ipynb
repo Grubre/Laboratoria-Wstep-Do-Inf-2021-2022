{
 "cells": [
  {
   "cell_type": "code",
   "execution_count": 1,
   "metadata": {},
   "outputs": [],
   "source": [
    "using JuMP\n",
    "using GLPK"
   ]
  },
  {
   "cell_type": "code",
   "execution_count": 2,
   "metadata": {},
   "outputs": [
    {
     "data": {
      "text/plain": [
       "4×3 Matrix{Int64}:\n",
       " 10   7   8\n",
       " 10  11  14\n",
       "  9  12   4\n",
       " 11  13   9"
      ]
     },
     "metadata": {},
     "output_type": "display_data"
    }
   ],
   "source": [
    "f_cnt = 3\n",
    "a_cnt = 4\n",
    "\n",
    "f_max = [275_000 550_000 660_000]\n",
    "f_needed = [110_000 220_000 330_000 440_000]\n",
    "cost = [10 7 8; 10 11 14; 9 12 4; 11 13 9]"
   ]
  },
  {
   "cell_type": "code",
   "execution_count": 5,
   "metadata": {},
   "outputs": [
    {
     "name": "stdout",
     "output_type": "stream",
     "text": [
      "x: "
     ]
    },
    {
     "name": "stdout",
     "output_type": "stream",
     "text": [
      "[0.0 110000.0 0.0; 165000.0 55000.0 0.0; 0.0 0.0 330000.0; 110000.0 0.0 330000.0]\n"
     ]
    },
    {
     "name": "stdout",
     "output_type": "stream",
     "text": [
      "koszt: 8.525e6\n"
     ]
    }
   ],
   "source": [
    "model = Model(GLPK.Optimizer)\n",
    "@variable(model, x[1:a_cnt, 1:f_cnt] >= 0)\n",
    "\n",
    "for j in 1:f_cnt\n",
    "    @constraint(model, sum(x[i, j] for i in 1:a_cnt) <= f_max[j])\n",
    "end\n",
    "\n",
    "for i in 1:a_cnt\n",
    "    @constraint(model, sum(x[i, j] for j in 1:f_cnt) == f_needed[i])\n",
    "end\n",
    "\n",
    "@objective(model, Min, sum(x[i, j] * cost[i, j] for i in 1:a_cnt, j in 1:f_cnt))\n",
    "optimize!(model)\n",
    "\n",
    "println(\"x: \", value.(x))\n",
    "println(\"koszt: \", objective_value(model))\n"
   ]
  }
 ],
 "metadata": {
  "kernelspec": {
   "display_name": "Julia 1.8.5",
   "language": "julia",
   "name": "julia-1.8"
  },
  "language_info": {
   "file_extension": ".jl",
   "mimetype": "application/julia",
   "name": "julia",
   "version": "1.8.5"
  },
  "orig_nbformat": 4
 },
 "nbformat": 4,
 "nbformat_minor": 2
}
