{
 "cells": [
  {
   "cell_type": "code",
   "execution_count": 1,
   "metadata": {},
   "outputs": [],
   "source": [
    "using JuMP\n",
    "using GLPK"
   ]
  },
  {
   "cell_type": "code",
   "execution_count": 2,
   "metadata": {},
   "outputs": [
    {
     "data": {
      "text/plain": [
       "60"
      ]
     },
     "metadata": {},
     "output_type": "display_data"
    }
   ],
   "source": [
    "sell_price = [9,7,6,5]\n",
    "cost_t = [2,2,3]\n",
    "cost_m = [4,1,1,1]\n",
    "max_p = [400, 100, 150, 500]\n",
    "time = [5 10 6; 3 6 4; 4 5 3; 4 2 1]\n",
    "t_max = 60"
   ]
  },
  {
   "cell_type": "code",
   "execution_count": 17,
   "metadata": {},
   "outputs": [
    {
     "name": "stdout",
     "output_type": "stream",
     "text": [
      "x: [125.0, 100.0, 150.0, 500.0]\n",
      "zarobek: 3632.5\n"
     ]
    }
   ],
   "source": [
    "model = Model(GLPK.Optimizer)\n",
    "@variable(model, x[i=1:4] <= max_p[i])\n",
    "\n",
    "for j in 1:3\n",
    "    @constraint(model, sum(x[i] * time[i, j] for i in 1:4) <= 60 * t_max)\n",
    "end\n",
    "\n",
    "@objective(model, Max, sum(x[i] * sell_price[i] for i in 1:4) - sum(x[i] * cost_m[i] for i in 1:4) - sum(cost_t[j] * sum(x[i] * time[i, j] for i in 1:4) / 60 for j in 1:3))\n",
    "optimize!(model)\n",
    "\n",
    "println(\"x: \", value.(x))\n",
    "println(\"zarobek: \", objective_value(model))"
   ]
  }
 ],
 "metadata": {
  "kernelspec": {
   "display_name": "Julia 1.8.5",
   "language": "julia",
   "name": "julia-1.8"
  },
  "language_info": {
   "file_extension": ".jl",
   "mimetype": "application/julia",
   "name": "julia",
   "version": "1.8.5"
  },
  "orig_nbformat": 4
 },
 "nbformat": 4,
 "nbformat_minor": 2
}
