{
 "cells": [
  {
   "cell_type": "code",
   "execution_count": 1,
   "metadata": {},
   "outputs": [],
   "source": [
    "using JuMP\n",
    "using GLPK"
   ]
  },
  {
   "cell_type": "code",
   "execution_count": 2,
   "metadata": {},
   "outputs": [
    {
     "data": {
      "text/plain": [
       "20"
      ]
     },
     "metadata": {},
     "output_type": "display_data"
    }
   ],
   "source": [
    "\n",
    "A = [\n",
    "    0 1 0 1 0 0 0 0 1 1;\n",
    "    1 0 1 0 1 0 0 0 0 0;\n",
    "    0 1 0 1 0 1 0 0 1 0;\n",
    "    1 0 1 0 1 0 1 0 0 1;\n",
    "    0 1 0 1 0 0 0 1 1 0;\n",
    "    0 0 1 0 0 0 1 0 0 1;\n",
    "    0 0 0 1 0 1 0 1 0 0;\n",
    "    0 0 0 0 1 0 1 0 1 0;\n",
    "    1 0 1 0 1 0 0 1 0 0;\n",
    "    1 0 0 1 0 1 0 0 0 0;\n",
    "]\n",
    "\n",
    "c = [\n",
    "    0  57  0  91  0  0  0  0  55  20;\n",
    "    57  0  23  0  48  0  0  0  0  0;\n",
    "    0  23  0  15  0  47  0  0  98  0;\n",
    "    91  0  15  0  60  0  21  0  0  67;\n",
    "    0  48  0  60  0  0  0  43  44  0;\n",
    "    0  0  47  0  0  0  13  0  0  55;\n",
    "    0  0  0  21  0  13  0  11  0  0;\n",
    "    0  0  0  0  43  0  11  0  16  0;\n",
    "    85  0  98  0  44  0  0  16  0  0;\n",
    "    20  0  0  67  0  55  0  0  0  0;\n",
    "]\n",
    "\n",
    "t = [\n",
    "    0  5  0  7  0  0  0  0  6  4;\n",
    "    5  0  3  0  2  0  0  0  0  0;\n",
    "    0  3  0  1  0  4  0  0  8  0;\n",
    "    7  0  1  0  6  0  5  0  0  7;\n",
    "    0  2  0  6  0  0  0  3  4  0;\n",
    "    0  0  4  0  0  0  3  0  0  5;\n",
    "    0  0  0  0  0  1  0  4  8  0;\n",
    "    0  0  0  0  3  0  1  0  1  0;\n",
    "    6  0  8  0  4  0  0  21  0  0;\n",
    "    4  0  0  7  0  5  0  0  0  0;\n",
    "]\n",
    "\n",
    "n = size(A, 1)\n",
    "start_vertex = 1\n",
    "end_vertex = 8\n",
    "T_max = 20"
   ]
  },
  {
   "cell_type": "code",
   "execution_count": 3,
   "metadata": {},
   "outputs": [
    {
     "data": {
      "text/plain": [
       "10×10 Matrix{Float64}:\n",
       " 0.0  0.0  0.0  0.0  0.0  0.0  0.0  0.0  1.0  0.0\n",
       " 0.0  0.0  0.0  0.0  0.0  0.0  0.0  0.0  0.0  0.0\n",
       " 0.0  0.0  0.0  0.0  0.0  0.0  0.0  0.0  0.0  0.0\n",
       " 0.0  0.0  0.0  0.0  0.0  0.0  0.0  0.0  0.0  0.0\n",
       " 0.0  0.0  0.0  0.0  0.0  0.0  0.0  0.0  0.0  0.0\n",
       " 0.0  0.0  0.0  0.0  0.0  0.0  0.0  0.0  0.0  0.0\n",
       " 0.0  0.0  0.0  0.0  0.0  0.0  0.0  0.0  0.0  0.0\n",
       " 0.0  0.0  0.0  0.0  0.0  0.0  0.0  0.0  0.0  0.0\n",
       " 0.0  0.0  0.0  0.0  0.0  0.0  0.0  1.0  0.0  0.0\n",
       " 0.0  0.0  0.0  0.0  0.0  0.0  0.0  0.0  0.0  0.0"
      ]
     },
     "metadata": {},
     "output_type": "display_data"
    },
    {
     "data": {
      "text/plain": [
       "10×10 Matrix{Int64}:\n",
       " 0  1  0  1  0  0  0  0  1  1\n",
       " 1  0  1  0  1  0  0  0  0  0\n",
       " 0  1  0  1  0  1  0  0  1  0\n",
       " 1  0  1  0  1  0  1  0  0  1\n",
       " 0  1  0  1  0  0  0  1  1  0\n",
       " 0  0  1  0  0  0  1  0  0  1\n",
       " 0  0  0  1  0  1  0  1  0  0\n",
       " 0  0  0  0  1  0  1  0  1  0\n",
       " 1  0  1  0  1  0  0  1  0  0\n",
       " 1  0  0  1  0  1  0  0  0  0"
      ]
     },
     "metadata": {},
     "output_type": "display_data"
    },
    {
     "name": "stdout",
     "output_type": "stream",
     "text": [
      "Najnizszy koszt to: 71.0\n",
      "Sciezka: 1 -> 9 -> 8\n"
     ]
    }
   ],
   "source": [
    "model = Model(GLPK.Optimizer)\n",
    "\n",
    "@variable(model, 0 <= x[1:n, 1:n])\n",
    "\n",
    "for i in 1:n\n",
    "    if i == start_vertex\n",
    "        cond = 1\n",
    "    elseif i == end_vertex\n",
    "        cond = -1\n",
    "    else\n",
    "        cond = 0\n",
    "    end\n",
    "    @constraint(model, sum((A[i, j] == 1) ? x[i, j] : 0 for j in 1:n) - sum((A[j, i] == 1) ? x[j, i] : 0 for j in 1:n) == cond)\n",
    "end\n",
    "# @constraint(model,time, sum(x[i, j] * t[i, j] for i in 1:n, j in 1:n) <= T_max)\n",
    "\n",
    "@objective(model, Min, sum(x[i, j] * c[i, j] for i in 1:n, j in 1:n))\n",
    "\n",
    "optimize!(model)\n",
    "\n",
    "display(value.(x))\n",
    "display(A)\n",
    "if termination_status(model) == MOI.INFEASIBLE\n",
    "    println(\"Nie ma rozwiazania problemu.\")\n",
    "else\n",
    "    println(\"Najnizszy koszt to: \", objective_value(model))\n",
    "\n",
    "    path = [start_vertex]\n",
    "    current_vertex = start_vertex\n",
    "    while current_vertex != end_vertex\n",
    "        for j in 1:n\n",
    "            if value(x[current_vertex, j]) ≈ 1\n",
    "                push!(path, j)\n",
    "                current_vertex = j\n",
    "                break\n",
    "            end\n",
    "        end\n",
    "    end\n",
    "\n",
    "    println(\"Sciezka: \", join(path, \" -> \"))\n",
    "end"
   ]
  }
 ],
 "metadata": {
  "kernelspec": {
   "display_name": "Julia 1.8.5",
   "language": "julia",
   "name": "julia-1.8"
  },
  "language_info": {
   "file_extension": ".jl",
   "mimetype": "application/julia",
   "name": "julia",
   "version": "1.8.5"
  },
  "orig_nbformat": 4
 },
 "nbformat": 4,
 "nbformat_minor": 2
}
