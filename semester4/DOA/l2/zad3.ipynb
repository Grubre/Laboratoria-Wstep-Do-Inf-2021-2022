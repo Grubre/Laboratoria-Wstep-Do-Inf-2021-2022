{
 "cells": [
  {
   "cell_type": "code",
   "execution_count": 8,
   "metadata": {},
   "outputs": [],
   "source": [
    "using JuMP\n",
    "using GLPK"
   ]
  },
  {
   "cell_type": "code",
   "execution_count": 9,
   "metadata": {},
   "outputs": [
    {
     "data": {
      "text/plain": [
       "3-element Vector{Int64}:\n",
       " 10\n",
       " 14\n",
       " 13"
      ]
     },
     "metadata": {},
     "output_type": "display_data"
    }
   ],
   "source": [
    "rad_min = [2 4 3; 3 6 5; 5 7 6]\n",
    "rad_max = [3 7 5; 5 7 10; 8 12 10]\n",
    "z_min = [10, 20, 18]\n",
    "p_min = [10, 14, 13]"
   ]
  },
  {
   "cell_type": "code",
   "execution_count": 10,
   "metadata": {},
   "outputs": [
    {
     "data": {
      "text/plain": [
       "3×3 Matrix{Float64}:\n",
       " 2.0  7.0  5.0\n",
       " 3.0  6.0  7.0\n",
       " 5.0  7.0  6.0"
      ]
     },
     "metadata": {},
     "output_type": "display_data"
    }
   ],
   "source": [
    "model = Model(GLPK.Optimizer)\n",
    "@variable(model, rad_min[i, j] <= x[i=1:3, j=1:3] <= rad_max[i, j])\n",
    "\n",
    "for j in 1:3\n",
    "    @constraint(model, sum(x[i, j] for i in 1:3) >= z_min[j])\n",
    "end\n",
    "\n",
    "for i in 1:3\n",
    "    @constraint(model, sum(x[i, j] for j in 1:3) >= p_min[i])\n",
    "end\n",
    "\n",
    "@objective(model, Min, sum(x[i, j] for i in 1:3, j in 1:3))\n",
    "optimize!(model)\n",
    "\n",
    "value.(x)"
   ]
  }
 ],
 "metadata": {
  "kernelspec": {
   "display_name": "Julia 1.8.5",
   "language": "julia",
   "name": "julia-1.8"
  },
  "language_info": {
   "file_extension": ".jl",
   "mimetype": "application/julia",
   "name": "julia",
   "version": "1.8.5"
  },
  "orig_nbformat": 4
 },
 "nbformat": 4,
 "nbformat_minor": 2
}
