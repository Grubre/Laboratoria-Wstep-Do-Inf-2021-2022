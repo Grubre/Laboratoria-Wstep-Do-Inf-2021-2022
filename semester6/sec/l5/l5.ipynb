{
 "cells": [
  {
   "cell_type": "code",
   "execution_count": 84,
   "metadata": {},
   "outputs": [],
   "source": [
    "from bitarray import bitarray\n",
    "\n",
    "def KSA(K):\n",
    "    n = len(K)\n",
    "    j = 0\n",
    "    T = [K[i%n] for i in range(256)]\n",
    "    S = list(range(256))\n",
    "    for i in range(256):\n",
    "        j = (j + S[i] + T[i]) % 256\n",
    "        S[i], S[j] = S[j], S[i]\n",
    "    return S\n",
    "\n",
    "def PRGA(S, m):\n",
    "    i = 0\n",
    "    j = 0\n",
    "    KS = []\n",
    "    for _ in range(m):\n",
    "        i = (i + 1) % 256\n",
    "        j = (j + S[i]) % 256\n",
    "        S[i], S[j] = S[j], S[i]\n",
    "        KS.append(S[(S[i] + S[j]) % 256])\n",
    "        \n",
    "    return KS\n",
    "\n",
    "def xor(A, B):\n",
    "    return [a ^ b for a, b in zip(A, B)]\n",
    "\n",
    "def encrypt(text, key):\n",
    "    S = KSA(key)\n",
    "    KS = PRGA(S, len(text))\n",
    "    C = []\n",
    "    for i in range(len(text)):\n",
    "        C.append(KS[i] ^ ord(text[i]))\n",
    "\n",
    "    return C\n",
    "\n",
    "def decrypt(text , key):\n",
    "    S = KSA(key)\n",
    "    KS = PRGA(S, len(text))\n",
    "    C = []\n",
    "    for i in range(len(text)):\n",
    "        C.append(KS[i] ^ text[i])\n",
    "\n",
    "    C = ''.join([chr(c) for c in C])\n",
    "\n",
    "    return C\n"
   ]
  },
  {
   "cell_type": "markdown",
   "metadata": {},
   "source": [
    "## Zadanie 1"
   ]
  },
  {
   "cell_type": "code",
   "execution_count": 85,
   "metadata": {},
   "outputs": [
    {
     "name": "stdout",
     "output_type": "stream",
     "text": [
      "encrypted text: [143, 219, 37, 115, 73, 254, 151, 57, 197, 254, 141, 161, 88]\n",
      "decrypted text: Hello, World!\n"
     ]
    }
   ],
   "source": [
    "key = bitarray('10000000000000000000000000000000000000000000000000000000000000000000000000000000000000000000000000000000000000000000000000000000')\n",
    "text = \"Hello, World!\"\n",
    "\n",
    "C = encrypt(text, key)\n",
    "print(f\"encrypted text: {C}\")\n",
    "\n",
    "C = decrypt(C, key)\n",
    "print(f\"decrypted text: {C}\")\n"
   ]
  },
  {
   "cell_type": "markdown",
   "metadata": {},
   "source": [
    "## Zadanie 2"
   ]
  },
  {
   "cell_type": "code",
   "execution_count": 88,
   "metadata": {},
   "outputs": [
    {
     "data": {
      "text/plain": [
       "True"
      ]
     },
     "execution_count": 88,
     "metadata": {},
     "output_type": "execute_result"
    }
   ],
   "source": [
    "def check_if_same_key(C1, C2):\n",
    "    minlen = min(len(C1), len(C2))\n",
    "\n",
    "    for i in range(minlen):\n",
    "        first_bit_C1 = C1[i] & 0b10000000\n",
    "        first_bit_C2 = C2[i] & 0b10000000\n",
    "        if first_bit_C1 != first_bit_C2:\n",
    "            return False\n",
    "        \n",
    "    return True\n",
    "    \n",
    "key = bitarray('10000000000000000000000000000000000000000000000000000000000000000000000000000000000000000000000000000000000000000000000000000000')\n",
    "key2 = bitarray('11100000000000000000000000000000000000000000000000000000000000000000000000000000000000000000000000000000000000000000000000000000')\n",
    "text = \"Hello, World!\"\n",
    "text2 =\"Abcdefjeiofjs\"\n",
    "\n",
    "C1 = encrypt(text, key2)\n",
    "C2 = encrypt(text2, key2)\n",
    "\n",
    "check_if_same_key(C1, C2)"
   ]
  },
  {
   "cell_type": "markdown",
   "metadata": {},
   "source": [
    "## Zadanie 3"
   ]
  },
  {
   "cell_type": "code",
   "execution_count": 100,
   "metadata": {},
   "outputs": [
    {
     "name": "stdout",
     "output_type": "stream",
     "text": [
      "number1_encrypted: ['0b11110101', '0b10001011', '0b1110000', '0b101100', '0b10000', '0b11100110', '0b10000111', '0b1011110', '0b10011010', '0b10111100', '0b11011001', '0b11110011', '0b1001001', '0b10000011', '0b111101', '0b10100110', '0b10010000', '0b1011000', '0b100', '0b11101000', '0b10011001', '0b11100100', '0b10101000', '0b1010001', '0b10111000', '0b11010100']\n",
      "number2_encrypted: ['0b11110011', '0b10001010', '0b1111000', '0b101111', '0b11111', '0b11100010', '0b10000101', '0b1011100', '0b10011001', '0b10110101', '0b11010101', '0b11110000', '0b1001100', '0b10000001', '0b111110', '0b10100100', '0b10010001', '0b1011110', '0b100', '0b11101000', '0b10011001', '0b11100010', '0b10101010', '0b1010001', '0b10111010', '0b11010011']\n",
      "number3_encrypted: ['0b11110011', '0b10000111', '0b1110001', '0b100111', '0b11110', '0b11100110', '0b10000110', '0b1011110', '0b10011000', '0b10111011', '0b11010100', '0b11110111', '0b1001111', '0b10000100', '0b111001', '0b10100101', '0b10010101', '0b1011000', '0b1', '0b11101001', '0b10011110', '0b11100111', '0b10101111', '0b1010101', '0b10111000', '0b11010101']\n",
      "number4_encrypted: ['0b11110110', '0b10001110', '0b1111000', '0b101111', '0b11111', '0b11100010', '0b10000110', '0b1011011', '0b10011001', '0b10111001', '0b11011001', '0b11110010', '0b1001111', '0b10000110', '0b111011', '0b10100101', '0b10010000', '0b1011110', '0b1100', '0b11101000', '0b10011101', '0b11100110', '0b10100011', '0b1010111', '0b10111000', '0b11010011']\n",
      "number5_encrypted: ['0b11110010', '0b10000111', '0b1111000', '0b101101', '0b10010', '0b11100010', '0b10000101', '0b1011000', '0b10010011', '0b10110100', '0b11010011', '0b11110010', '0b1001010', '0b10000110', '0b111101', '0b10100000', '0b10010010', '0b1011000', '0b1', '0b11101000', '0b10010100', '0b11100001', '0b10101010', '0b1010001', '0b10111101', '0b11010110']\n",
      "1 xor 2: [6, 1, 8, 3, 15, 4, 2, 2, 3, 9, 12, 3, 5, 2, 3, 2, 1, 6, 0, 0, 0, 6, 2, 0, 2, 7]\n",
      "True\n"
     ]
    }
   ],
   "source": [
    "# PL 25 9364 0000 8606 7224 0645 3747       <-  Warmińsko - Mazurski Bank Spółdzielczy Centrala\n",
    "# PL 44 1090 2239 4554 4032 0643 1760       <-  Bank Zachodni WBK SA 1 O. w Strzelcach Opolskich\n",
    "# PL 49 8884 1027 5261 3174 5736 4346       <-  Bank Spółdzielczy w Krapkowicach O. w Tarnowie Opolskim\n",
    "# PL 10 1090 1535 8763 1122 8607 8140       <-  Bank Zachodni WBK SA 1 O. w Zielonej Górze\n",
    "# PL 59 1240 2698 2733 7404 5690 1715       <-  Bank Polska Kasa Opieki SA I O. w Łukowie\n",
    "\n",
    "key = bitarray('10000000000000000000000000000000000000000000000000000000000000000000000000000000000000000000000000000000000000000000000000000000')\n",
    "number1 = '25936400008606722406453747'\n",
    "number2 = '44109022394554403206431760'\n",
    "number3 = '49888410275261317457364346'\n",
    "number4 = '10109015358763112286078140'\n",
    "number5 = '59124026982733740456901715'\n",
    "\n",
    "bank1 = '93640000'\n",
    "bank2 = '10902239'\n",
    "bank3 = '88841027'\n",
    "bank4 = '10901535'\n",
    "bank5 = '12402698'\n",
    "\n",
    "number1_encrypted = encrypt(number1, key)\n",
    "number2_encrypted = encrypt(number2, key)\n",
    "number3_encrypted = encrypt(number3, key)\n",
    "number4_encrypted = encrypt(number4, key)\n",
    "number5_encrypted = encrypt(number5, key)\n",
    "\n",
    "print(f\"number1_encrypted: {[bin(i) for i in number1_encrypted]}\")\n",
    "print(f\"number2_encrypted: {[bin(i) for i in number2_encrypted]}\")\n",
    "print(f\"number3_encrypted: {[bin(i) for i in number3_encrypted]}\")\n",
    "print(f\"number4_encrypted: {[bin(i) for i in number4_encrypted]}\")\n",
    "print(f\"number5_encrypted: {[bin(i) for i in number5_encrypted]}\")\n",
    "\n",
    "\"\"\"\n",
    "A, B\n",
    "(A ^ SK) ^ (B ^ SK) = A ^ B\n",
    "\"\"\"\n",
    "\n",
    "print(f\"1 xor 2: {xor(number1_encrypted, number2_encrypted)}\")\n",
    "\n",
    "def checksum(account_num):\n",
    "    client_account = account_num[2::] + \"2521\" + account_num[0:2]\n",
    "    \n",
    "    return int(client_account) % 97 == 1"
   ]
  }
 ],
 "metadata": {
  "kernelspec": {
   "display_name": "Python 3",
   "language": "python",
   "name": "python3"
  },
  "language_info": {
   "codemirror_mode": {
    "name": "ipython",
    "version": 3
   },
   "file_extension": ".py",
   "mimetype": "text/x-python",
   "name": "python",
   "nbconvert_exporter": "python",
   "pygments_lexer": "ipython3",
   "version": "3.11.5"
  }
 },
 "nbformat": 4,
 "nbformat_minor": 2
}
