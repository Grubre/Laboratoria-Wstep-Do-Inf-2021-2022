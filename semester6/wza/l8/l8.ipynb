{
 "cells": [
  {
   "cell_type": "code",
   "execution_count": 34,
   "metadata": {
    "metadata": {}
   },
   "outputs": [
    {
     "name": "stdout",
     "output_type": "stream",
     "text": [
      "(array([0.25, 1.5 ]), array([0.75]))\n"
     ]
    }
   ],
   "source": [
    "from numpy.polynomial import polynomial as P\n",
    "\n",
    "f = (1, 2, 3)\n",
    "g = (1, 2)\n",
    "print(P.polydiv(f, g))\n"
   ]
  },
  {
   "cell_type": "code",
   "execution_count": 41,
   "metadata": {
    "metadata": {}
   },
   "outputs": [
    {
     "name": "stdout",
     "output_type": "stream",
     "text": [
      "gcd((1, 2, 1), (1, 1, 1)) = (1, 1, 1)\n",
      "0*(1, 2, 1) + [1.]*(1, 1, 1) = [1. 1. 1.]\n"
     ]
    }
   ],
   "source": [
    "# write a function that for two given polynomials f,g in k[x] find such A,B in k[x] that A*f + B*g = gcd(f,g)\n",
    "\n",
    "import numpy\n",
    "from numpy.polynomial import polynomial as P\n",
    "\n",
    "def gcd(a, b):\n",
    "    if all(b) == 0:\n",
    "        return a\n",
    "    return gcd(b, P.polydiv(a, b)[1])\n",
    "\n",
    "def extended_gcd(f, g):\n",
    "    if all(g) == 0:\n",
    "        return f, 1, 0\n",
    "    d, x, y = extended_gcd(g, P.polydiv(f,g)[1])\n",
    "    return d, y, P.polysub(x, P.polymul((P.polydiv(f, g)[0]), y))\n",
    "\n",
    "def main():\n",
    "    f = (1, 2, 3)\n",
    "    g = (1, 2)\n",
    "    d = gcd(f, g)\n",
    "    a, b, = extended_gcd(f, g)[1:]\n",
    "    print(f'gcd({f}, {g}) = {d}')\n",
    "    print(f'{a}*{f} + {b}*{g} = {P.polymul(a,f) + P.polymul(b,g)}')\n",
    "\n",
    "if __name__ == '__main__':\n",
    "    main()"
   ]
  }
 ],
 "metadata": {
  "kernelspec": {
   "display_name": "Python 3",
   "language": "python",
   "name": "python3"
  },
  "language_info": {
   "codemirror_mode": {
    "name": "ipython",
    "version": 3
   },
   "file_extension": ".py",
   "mimetype": "text/x-python",
   "name": "python",
   "nbconvert_exporter": "python",
   "pygments_lexer": "ipython3",
   "version": "3.12.3"
  }
 },
 "nbformat": 4,
 "nbformat_minor": 2
}
