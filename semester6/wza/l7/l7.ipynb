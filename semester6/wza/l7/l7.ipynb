{
 "cells": [
  {
   "cell_type": "markdown",
   "metadata": {},
   "source": [
    "### Podpunkt 1"
   ]
  },
  {
   "cell_type": "code",
   "execution_count": 1,
   "metadata": {},
   "outputs": [
    {
     "name": "stdout",
     "output_type": "stream",
     "text": [
      "GCD: x**2 + x + 1\n"
     ]
    }
   ],
   "source": [
    "from sympy import symbols\n",
    "from sympy.polys.polytools import gcd\n",
    "\n",
    "x = symbols('x')\n",
    "\n",
    "poly1 = x**4 + x**2 + 1\n",
    "poly2 = x**4 - x**2 - 2*x - 1\n",
    "poly3 = x**3 - 1\n",
    "\n",
    "gcd_result = gcd(poly1, poly2, poly3)\n",
    "\n",
    "print(\"GCD:\", gcd_result)"
   ]
  },
  {
   "cell_type": "markdown",
   "metadata": {},
   "source": [
    "### Podpunkt 2"
   ]
  },
  {
   "cell_type": "code",
   "execution_count": 2,
   "metadata": {},
   "outputs": [
    {
     "name": "stdout",
     "output_type": "stream",
     "text": [
      "GCD: x**2 - 4\n"
     ]
    }
   ],
   "source": [
    "from sympy import symbols\n",
    "from sympy.polys.polytools import gcd\n",
    "\n",
    "x = symbols('x')\n",
    "\n",
    "poly1 = x**3 + x**2 - 4*x - 4\n",
    "poly2 = x**3 - x**2 - 4*x + 4\n",
    "poly3 = x**3 - 2*x**2 - x + 2\n",
    "\n",
    "gcd_result = gcd(poly1, poly2, poly3)\n",
    "\n",
    "print(\"GCD:\", gcd_result)"
   ]
  }
 ],
 "metadata": {
  "kernelspec": {
   "display_name": "Python 3",
   "language": "python",
   "name": "python3"
  },
  "language_info": {
   "codemirror_mode": {
    "name": "ipython",
    "version": 3
   },
   "file_extension": ".py",
   "mimetype": "text/x-python",
   "name": "python",
   "nbconvert_exporter": "python",
   "pygments_lexer": "ipython3",
   "version": "3.11.8"
  }
 },
 "nbformat": 4,
 "nbformat_minor": 2
}
