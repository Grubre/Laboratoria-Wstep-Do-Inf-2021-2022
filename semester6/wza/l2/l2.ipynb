{
 "cells": [
  {
   "cell_type": "code",
   "execution_count": 13,
   "metadata": {},
   "outputs": [
    {
     "name": "stdout",
     "output_type": "stream",
     "text": [
      "gcd:  [1.0]\n",
      "lcm:  [1.0, 2.0, 2.0, 2.0, 1.0]\n"
     ]
    }
   ],
   "source": [
    "def deg(a):\n",
    "    i = 0\n",
    "    last_non_zero = 0\n",
    "    while i < len(a):\n",
    "        if a[i] != 0:\n",
    "            last_non_zero = i\n",
    "        i += 1\n",
    "\n",
    "    return last_non_zero\n",
    "\n",
    "def cut(a):\n",
    "    return a[:deg(a) + 1]\n",
    "\n",
    "def mult(a, b):\n",
    "    deg_a = deg(a)\n",
    "    deg_b = deg(b)\n",
    "    m = [0 for i in range(deg_a + deg_b + 1)]\n",
    "    for i in range(deg_a + 1):\n",
    "        for j in range(deg_b + 1):\n",
    "            m[i + j] += a[i] * b[j]\n",
    "\n",
    "    return m\n",
    "\n",
    "def div_with_remainder(a, b):\n",
    "    deg_a = deg(a)\n",
    "    deg_b = deg(b)\n",
    "\n",
    "    a2 = a.copy() \n",
    "\n",
    "    q = [0 for i in range(deg_a + deg_b + 1)]\n",
    "\n",
    "    while deg_a >= deg_b:\n",
    "        q[deg_a - deg_b] = a2[deg_a] / b[deg_b]\n",
    "        \n",
    "        for i in range(deg_b + 1):\n",
    "            a2[deg_a - deg_b + i] -= b[i] * (a2[deg_a] / b[deg_b])\n",
    "\n",
    "        deg_a = deg_a - 1\n",
    "\n",
    "        while deg_a >= 0 and a[deg_a] == 0:\n",
    "            deg_a -= 1\n",
    "    \n",
    "    return cut(q), cut(a2)\n",
    "\n",
    "def gcd(a, b):\n",
    "    while deg(b) > 0 or b[0] > 0:\n",
    "        q,r = div_with_remainder(a, b)\n",
    "        a, b = b, div_with_remainder(a, b)[1]\n",
    "\n",
    "    return a\n",
    "\n",
    "def lcm(a, b):\n",
    "    return div_with_remainder(mult(a, b), gcd(a, b))[0]\n",
    "\n",
    "a = [1, 0, 1]\n",
    "b = [1, 2, 1]\n",
    "print(\"gcd: \", gcd(a,b))\n",
    "\n",
    "a = [1, 0, 1]\n",
    "b = [1, 2, 1]\n",
    "print(\"lcm: \", lcm(a,b))"
   ]
  }
 ],
 "metadata": {
  "kernelspec": {
   "display_name": "Python 3",
   "language": "python",
   "name": "python3"
  },
  "language_info": {
   "codemirror_mode": {
    "name": "ipython",
    "version": 3
   },
   "file_extension": ".py",
   "mimetype": "text/x-python",
   "name": "python",
   "nbconvert_exporter": "python",
   "pygments_lexer": "ipython3",
   "version": "3.11.8"
  }
 },
 "nbformat": 4,
 "nbformat_minor": 2
}
