{
 "cells": [
  {
   "cell_type": "code",
   "execution_count": 9,
   "metadata": {},
   "outputs": [
    {
     "name": "stdout",
     "output_type": "stream",
     "text": [
      "[(3, 4), (4, 3)]\n",
      "[(6, 7), (7, 6)]\n"
     ]
    }
   ],
   "source": [
    "import matplotlib.pyplot as plt\n",
    "\n",
    "def is_related(X, Y):\n",
    "    for (x,y) in zip(X,Y):\n",
    "        if x > y:\n",
    "            return False\n",
    "    return True\n",
    "\n",
    "A = [[x, y] for x in range(0, 20) for y in range(0, 20) if (x-10)**2 + (y-10)**2 <= 25]\n",
    "M = []\n",
    "\n",
    "for (x,y) in A:\n",
    "    plt.scatter(x, y, c='gray')\n",
    "plt.xlim(0, 20)\n",
    "plt.ylim(0, 20)\n",
    "\n",
    "for x in A:\n",
    "    continue_flag = False\n",
    "    for m in M:\n",
    "        if is_related(m, x):\n",
    "            continue_flag = True\n",
    "            break\n",
    "        if is_related(x, m):\n",
    "            M.remove(m)\n",
    "\n",
    "    if continue_flag:\n",
    "        continue\n",
    "    \n",
    "    M.append(x)\n",
    "\n",
    "for (x,y) in M:\n",
    "    plt.scatter(x, y, c='red')\n",
    "plt.show()"
   ]
  }
 ],
 "metadata": {
  "kernelspec": {
   "display_name": "Python 3",
   "language": "python",
   "name": "python3"
  },
  "language_info": {
   "codemirror_mode": {
    "name": "ipython",
    "version": 3
   },
   "file_extension": ".py",
   "mimetype": "text/x-python",
   "name": "python",
   "nbconvert_exporter": "python",
   "pygments_lexer": "ipython3",
   "version": "3.12.3"
  }
 },
 "nbformat": 4,
 "nbformat_minor": 2
}
