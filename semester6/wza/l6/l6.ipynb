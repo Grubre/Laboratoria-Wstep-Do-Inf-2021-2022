{
 "cells": [
  {
   "cell_type": "code",
   "execution_count": 8,
   "metadata": {},
   "outputs": [
    {
     "name": "stdout",
     "output_type": "stream",
     "text": [
      "[(3, 4), (4, 3)]\n"
     ]
    }
   ],
   "source": [
    "from itertools import permutations\n",
    "\n",
    "def podp1(i, j):\n",
    "    return i * j >= 11\n",
    "\n",
    "def podp2(i, j):\n",
    "    return (i - 10)**2 + (j - 10)**2 <= 25\n",
    "\n",
    "def find_lowest_points(predicate):\n",
    "    dimensions_cnt = predicate.__code__.co_argcount\n",
    "    lowest = []\n",
    "    axes = [0] * dimensions_cnt\n",
    "    increment_dim = 0\n",
    "    while True:\n",
    "        perms = permutations(axes)\n",
    "        for perm in set(perms):\n",
    "            if predicate(*perm):\n",
    "                lowest.append(perm)\n",
    "\n",
    "        if len(lowest) > 0:\n",
    "            break\n",
    "\n",
    "        axes[increment_dim] += 1\n",
    "        increment_dim = (increment_dim + 1) % dimensions_cnt\n",
    "\n",
    "    return lowest\n",
    "\n",
    "print(find_lowest_points(podp1))\n",
    "print(find_lowest_points(podp2))"
   ]
  }
 ],
 "metadata": {
  "kernelspec": {
   "display_name": "Python 3",
   "language": "python",
   "name": "python3"
  },
  "language_info": {
   "codemirror_mode": {
    "name": "ipython",
    "version": 3
   },
   "file_extension": ".py",
   "mimetype": "text/x-python",
   "name": "python",
   "nbconvert_exporter": "python",
   "pygments_lexer": "ipython3",
   "version": "3.11.8"
  }
 },
 "nbformat": 4,
 "nbformat_minor": 2
}
